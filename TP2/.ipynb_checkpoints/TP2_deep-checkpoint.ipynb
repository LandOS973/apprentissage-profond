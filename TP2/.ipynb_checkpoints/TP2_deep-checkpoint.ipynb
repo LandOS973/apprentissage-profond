{
 "cells": [
  {
   "cell_type": "markdown",
   "metadata": {
    "id": "_TE2ItlsI956"
   },
   "source": [
    "# Deep Learning - Introduction à Pytorch\n",
    "\n",
    "\n",
    "## TP2 : Fonctions Dérivables\n",
    "\n",
    "Sylvain Lamprier (sylvain.lamprier@univ-angers.fr)\n",
    "\n",
    "Supports adaptés de Nicolas Baskiotis (nicolas.baskiotis@sorbonne-univeriste.fr) et Benjamin Piwowarski (benjamin.piwowarski@sorbonne-universite.fr) -- MLIA/ISIR, Sorbonne Université"
   ]
  },
  {
   "cell_type": "code",
   "metadata": {
    "id": "3Y9YOOHHhJKY",
    "outputId": "47e1d462-0547-428d-9fe4-32c9a3d7481d",
    "ExecuteTime": {
     "end_time": "2024-11-15T10:42:40.268427Z",
     "start_time": "2024-11-15T10:42:39.222100Z"
    }
   },
   "source": [
    "import torch\n",
    "print(\"La version de torch est : \",torch.__version__)\n",
    "print(\"Le calcul GPU est disponible ? \", torch.cuda.is_available())\n",
    "\n",
    "import numpy as np\n",
    "import sklearn\n",
    "print(\"sklearn \",sklearn.__version__)\n",
    "print(\"numpy \",np.__version__)"
   ],
   "outputs": [
    {
     "name": "stdout",
     "output_type": "stream",
     "text": [
      "La version de torch est :  2.5.1+cu124\n",
      "Le calcul GPU est disponible ?  False\n",
      "sklearn  1.5.2\n",
      "numpy  2.1.3\n"
     ]
    }
   ],
   "execution_count": 1
  },
  {
   "cell_type": "markdown",
   "metadata": {
    "id": "ZEYsBM9XRexh"
   },
   "source": [
    "Au TP précédent, nous avons vu comment implémenter une regression linéaire en utilisant les structures Tensor de PyTorch. Cependant, nous exploitions pas du tout la puissance de PyTorch qui permet de faciliter le calcul des gradients via de l'auto-dérivation. Dans le TP précédent nous avions défini un algorithme spécifique à de la regression pour un modèle (linéaire) et un coût (moindres carrés) figés, en définissant à la main le gradient du coût global pour l'ensemble des paramètres. Ce mode de programmation est très peu modulaire et est très difficilement étendable à des architectures plus complexes. Sachant que l'objectif est de développer des architectures neuronales avec des nombreux modules neuronaux enchaînés, il n'est pas possible de travailler de cette façon.\n",
    "\n",
    "Dans ce TP, nous allons voir comment décomposer les choses pour rendre le code plus facilement généralisable. L'objectif est de comprendre le fonctionnement interne de PyTorch (sans en utiliser encore les facilités offertes par l'utilisation d'un graphe de calcul), basé sur l'implémentation d'objets Function.  "
   ]
  },
  {
   "cell_type": "markdown",
   "metadata": {
    "id": "eioLeZ5YRexi"
   },
   "source": [
    "## Fonctions\n",
    "\n",
    "\n",
    "$\\href{https://pytorch.org/docs/stable/}{\\texttt{PyTorch}}$ utilise une classe abstraite $\\href{https://pytorch.org/docs/stable/autograd.html#torch.autograd.Function}{\\texttt{Function}}$ dont sont héritées toutes les fonctions et qui nécessite l'implémentation de ces deux méthodes :\n",
    "\n",
    "- méthode $\\texttt{forward(ctx, *inputs)}$ : calcule le résultat de l'application de la fonction\n",
    "- méthode $\\texttt{backward(ctx, *grad-outputs)}$ : calcule le gradient partiel par rapport à chaque entrée de la méthode $\\texttt{forward}$; le nombre de $\\texttt{grad-outputs}$ doit être égale aux nombre de sorties de $\\texttt{forward}$ (pourquoi ?) et le nombre de  \n",
    "sorties doit être égale aux nombres de $\\texttt{inputs}$ de $\\texttt{forward}$.\n",
    "\n",
    "\n",
    "Pour des raisons d'implémentation, les deux méthodes doivent être statiques. Le premier paramètre $\\texttt{ctx}$ permet de sauvegarder un contexte lors de la passe $\\texttt{forward}$ (par exemple les tenseurs d'entrées) et il est passé lors de la passe $\\texttt{backward}$ en paramètre afin de récupérer les valeurs. $\\textbf{Attention : }$ le contexte doit être unique pour chaque appel de $\\texttt{forward}$.\n",
    "\n",
    "Compléter le code ci-dessous pour créer des modules MSE (coût moindres carrés) et Linéaire. Les deux cellules en dessous vous serviront à tester votre code: si tout se passe sans plantage, alors vos gradients semblent corrects. Utiliser bien les outils propres à pyTorch, en particulier des Tensor et pas des matrices numpy. Assurez vous que\n",
    "vos fonctions prennent en entrée des batchs d’exemples (matrice 2D) et non un seul exemple (vecteur). N’hésiter pas à prendre un exemple et déterminer les dimensions des différentes matrices en jeu.  "
   ]
  },
  {
   "cell_type": "code",
   "metadata": {
    "id": "6QyE0spvRexi",
    "ExecuteTime": {
     "end_time": "2024-11-15T10:42:40.278538Z",
     "start_time": "2024-11-15T10:42:40.272661Z"
    }
   },
   "source": [
    "import torch\n",
    "from torch.autograd import Function\n",
    "from torch.autograd import gradcheck\n",
    "\n",
    "\n",
    "class Context:\n",
    "    \"\"\"Un objet contexte très simplifié pour simuler PyTorch\n",
    "\n",
    "    Un contexte différent doit être utilisé à chaque forward\n",
    "    \"\"\"\n",
    "    def __init__(self):\n",
    "        self._saved_tensors = ()\n",
    "    def save_for_backward(self, *args):\n",
    "        self._saved_tensors = args\n",
    "    @property\n",
    "    def saved_tensors(self):\n",
    "        return self._saved_tensors\n",
    "\n",
    "\n",
    "class MSE(Function):\n",
    "    \"\"\"Début d'implementation de la fonction MSE\"\"\"\n",
    "    # ctx est un objet contexte calculé par les fonctions précédentes\n",
    "    # yhat est la prédiction du modèle ( c'est une fonction loss)\n",
    "    # moindre carré entre yhat et y\n",
    "    # ctx.savebackwards permet de sauvegarder les valeurs nécessaires pour le backward\n",
    "    @staticmethod\n",
    "    def forward(ctx, yhat, y):\n",
    "        # Sauvegarde des valeurs nécessaires pour le backward\n",
    "        ctx.save_for_backward(yhat, y)\n",
    "        \n",
    "        # Calcul de la perte MSE : Mean((yhat - y)^2)\n",
    "        #loss = torch.mean((yhat - y) ** 2)\n",
    "        loss = ((yhat - y) ** 2).mean(0)\n",
    "        return loss\n",
    "\n",
    "    # recuperer les tensors sauvegardés dans le contexte pendant le forward\n",
    "    # pour calculer les gradients\n",
    "    # retourne le gradient par rapport au premier element passer dans le forward (yhat) \n",
    "    # et le gradient par rapport au deuxieme element passer dans le forward (y)\n",
    "    # recuper tensor et calculer gradiant qui utilse grad_output\n",
    "    # transformer grad_output en tensor et retourner le tuple de gradient de yhat et y\n",
    "    @staticmethod\n",
    "    def backward(ctx, grad_output):\n",
    "        # Récupérer les valeurs sauvegardées\n",
    "        yhat, y = ctx.saved_tensors\n",
    "    \n",
    "        N = yhat.size(0) # Nombre d'exemples dans le batch\n",
    "        grad_yhat = 2/N * (yhat - y) # Gradient par rapport à yhat\n",
    "        grad_y = -2/N * (yhat - y) # Gradient par rapport à y\n",
    "    \n",
    "        # Retourner les gradients ajustés avec grad_output\n",
    "        return grad_output * grad_yhat, grad_output * grad_y\n",
    "\n",
    "        \n",
    "\n",
    "# [[STUDENT]] Implémenter la fonction Linear(X, W, b)sur le même modèle que MSE\n",
    "# avec X le batch d'exemple, W les poids, b le biais\n",
    "# retourne XW + b\n",
    "class Linear(Function):\n",
    "    @staticmethod\n",
    "    def forward(ctx, x, w, b):\n",
    "        # Sauvegarde des valeurs nécessaires pour le backward\n",
    "        ctx.save_for_backward(x, w, b)\n",
    "        \n",
    "        # Calcul de la sortie\n",
    "        output = torch.mm(x, w) + b\n",
    "        return output\n",
    "\n",
    "    @staticmethod\n",
    "    def backward(ctx, grad_output):\n",
    "        # Récupérer les valeurs sauvegardées\n",
    "        x, w, b = ctx.saved_tensors\n",
    "        \n",
    "        # Calcul des gradients locaux\n",
    "        grad_x = torch.mm(grad_output, w.t())\n",
    "        grad_w = torch.mm(x.t(), grad_output)\n",
    "        grad_b = grad_output.sum(0)\n",
    "        \n",
    "        return grad_x, grad_w, grad_b\n",
    "\n",
    "## Utile pour gradcheck\n",
    "mse = MSE.apply\n",
    "linear = Linear.apply"
   ],
   "outputs": [],
   "execution_count": 2
  },
  {
   "cell_type": "code",
   "metadata": {
    "id": "9tlIwKy6Rexj",
    "outputId": "83456655-655a-4f21-a497-d8e873e29ac6",
    "ExecuteTime": {
     "end_time": "2024-11-15T10:42:40.532178Z",
     "start_time": "2024-11-15T10:42:40.330316Z"
    }
   },
   "source": [
    "# Test du gradient de MSE\n",
    "yhat = torch.randn(10,5, requires_grad=True, dtype=torch.float64)\n",
    "y = torch.randn(10,5, requires_grad=True, dtype=torch.float64)\n",
    "torch.autograd.gradcheck(mse, (yhat, y))"
   ],
   "outputs": [
    {
     "data": {
      "text/plain": [
       "True"
      ]
     },
     "execution_count": 3,
     "metadata": {},
     "output_type": "execute_result"
    }
   ],
   "execution_count": 3
  },
  {
   "cell_type": "code",
   "metadata": {
    "id": "49Ymm1PERexj",
    "outputId": "96ebc9d5-d541-4cfb-ab15-7350a0763e50",
    "ExecuteTime": {
     "end_time": "2024-11-15T10:42:40.569451Z",
     "start_time": "2024-11-15T10:42:40.548024Z"
    }
   },
   "source": [
    "# Test du gradient de Linear (sur le même modèle que MSE)\n",
    "x = torch.randn(13, 5,requires_grad=True,dtype=torch.float64)\n",
    "w = torch.randn(5, 7,requires_grad=True,dtype=torch.float64)\n",
    "b = torch.randn(7,requires_grad=True,dtype=torch.float64)\n",
    "torch.autograd.gradcheck(linear,(x,w,b))"
   ],
   "outputs": [
    {
     "data": {
      "text/plain": [
       "True"
      ]
     },
     "execution_count": 4,
     "metadata": {},
     "output_type": "execute_result"
    }
   ],
   "execution_count": 4
  },
  {
   "metadata": {
    "ExecuteTime": {
     "end_time": "2024-11-15T10:42:40.593630Z",
     "start_time": "2024-11-15T10:42:40.589997Z"
    }
   },
   "cell_type": "code",
   "source": [
    "# modulaire ( ajouter fonction tanh avec son forward et backward)\n",
    "class Tanh(Function):\n",
    "    @staticmethod\n",
    "    def forward(ctx, x):\n",
    "        # Calculer tanh et sauvegarder le contexte pour le backward\n",
    "        ctx.save_for_backward(x)\n",
    "        return torch.tanh(x)\n",
    "\n",
    "    @staticmethod\n",
    "    def backward(ctx, grad_output):\n",
    "        # Récupérer x depuis le contexte\n",
    "        (x,) = ctx.saved_tensors\n",
    "        # Calculer le gradient local : 1 - tanh^2(x)\n",
    "        grad_x = 1 - torch.tanh(x)**2\n",
    "        # Appliquer la règle de la chaîne\n",
    "        return grad_output * grad_x\n",
    "    \n",
    "tanh = Tanh.apply"
   ],
   "outputs": [],
   "execution_count": 5
  },
  {
   "metadata": {
    "ExecuteTime": {
     "end_time": "2024-11-15T10:42:40.660649Z",
     "start_time": "2024-11-15T10:42:40.642602Z"
    }
   },
   "cell_type": "code",
   "source": [
    "print(\"Testing Tanh:\")\n",
    "x = torch.randn(13, 5,requires_grad=True,dtype=torch.float64)\n",
    "torch.autograd.gradcheck(tanh,(x,))"
   ],
   "outputs": [
    {
     "name": "stdout",
     "output_type": "stream",
     "text": [
      "Testing Tanh:\n"
     ]
    },
    {
     "data": {
      "text/plain": [
       "True"
      ]
     },
     "execution_count": 6,
     "metadata": {},
     "output_type": "execute_result"
    }
   ],
   "execution_count": 6
  },
  {
   "metadata": {
    "ExecuteTime": {
     "end_time": "2024-11-15T10:42:40.711475Z",
     "start_time": "2024-11-15T10:42:40.708971Z"
    }
   },
   "cell_type": "code",
   "source": [
    "class ReLU(Function):\n",
    "    @staticmethod\n",
    "    def forward(ctx, x):\n",
    "        # Calculer ReLU et sauvegarder le contexte pour le backward\n",
    "        ctx.save_for_backward(x)\n",
    "        return torch.relu(x)\n",
    "\n",
    "    @staticmethod\n",
    "    def backward(ctx, grad_output):\n",
    "        # Récupérer x depuis le contexte\n",
    "        (x,) = ctx.saved_tensors\n",
    "        # Calculer le gradient local : 1 si x > 0, sinon 0\n",
    "        grad_x = (x > 0).to(x.dtype)  # Convertir en même type que x\n",
    "        # Appliquer la règle de la chaîne\n",
    "        return grad_output * grad_x"
   ],
   "outputs": [],
   "execution_count": 7
  },
  {
   "metadata": {
    "ExecuteTime": {
     "end_time": "2024-11-15T10:42:40.785073Z",
     "start_time": "2024-11-15T10:42:40.761924Z"
    }
   },
   "cell_type": "code",
   "source": [
    "# Tester ReLU avec gradcheck\n",
    "print(\"Testing ReLU:\")\n",
    "relu = ReLU.apply\n",
    "torch.autograd.gradcheck(relu, (x,))"
   ],
   "outputs": [
    {
     "name": "stdout",
     "output_type": "stream",
     "text": [
      "Testing ReLU:\n"
     ]
    },
    {
     "data": {
      "text/plain": [
       "True"
      ]
     },
     "execution_count": 8,
     "metadata": {},
     "output_type": "execute_result"
    }
   ],
   "execution_count": 8
  },
  {
   "cell_type": "markdown",
   "metadata": {
    "id": "pd6RAkfxRexk"
   },
   "source": [
    "## Descente de Gradient\n",
    "\n",
    "Compléter ci-dessous le code pour réaliser la même regression linéaire qu'au TP précédent, mais en utilisant les objets Function déclarés ci-dessus."
   ]
  },
  {
   "cell_type": "code",
   "metadata": {
    "id": "RcYmY2f1Rexk",
    "outputId": "b8d01166-b684-42b9-e422-1d6e09301156",
    "ExecuteTime": {
     "end_time": "2024-11-15T10:42:59.949037Z",
     "start_time": "2024-11-15T10:42:40.823485Z"
    }
   },
   "source": [
    "import torch\n",
    "from torch.autograd import Function\n",
    "from sklearn.datasets import fetch_california_housing\n",
    "import matplotlib.pyplot as plt\n",
    "\n",
    "housing = fetch_california_housing()  ## chargement des données\n",
    "x = torch.tensor(housing['data'], dtype=torch.float)\n",
    "y = torch.tensor(housing['target'], dtype=torch.float).view(-1, 1)\n",
    "x = (x - x.mean(dim=0)) / x.std(dim=0)\n",
    "\n",
    "print(\"Nombre d'exemples : \", x.size(0), \"Dimension : \", x.size(1))\n",
    "\n",
    "x_train = x[:int(0.8 * len(x))]\n",
    "y_train = y[:int(0.8 * len(y))]\n",
    "x_test = x[int(0.8 * len(x)):]\n",
    "y_test = y[int(0.8 * len(y)):]\n",
    "\n",
    "# Initialisation aléatoire de w et b with small values\n",
    "w = torch.randn(x.size(1), 1) * 0.01\n",
    "b = torch.zeros(1, 1)\n",
    "\n",
    "EPOCHS = 80000\n",
    "EPS = 1e-5\n",
    "\n",
    "cost_history = []\n",
    "cost_final = []\n",
    "\n",
    "for n_iter in range(EPOCHS):\n",
    "    ctx_linear = Context()\n",
    "    ctx_mse = Context()\n",
    "    yhat = Linear.forward(ctx_linear, x_train, w, b)\n",
    "    loss = MSE.forward(ctx_mse, yhat, y_train)\n",
    "    cost_history.append([n_iter, loss.item()])\n",
    "    if n_iter % 1000 == 0:\n",
    "        print(f\"Itérations {n_iter}: loss {loss.item()}\")\n",
    "    grad_output = torch.tensor(1.0)\n",
    "    grad_yhat, _ = MSE.backward(ctx_mse, grad_output)\n",
    "    _, grad_w, grad_b = Linear.backward(ctx_linear, grad_yhat)\n",
    "    w = w - EPS * grad_w\n",
    "    b = b - EPS * grad_b\n",
    "    \n",
    "# test du modèle \n",
    "yhat = Linear.forward(Context(), x_test, w, b)\n",
    "loss = MSE.forward(Context(), yhat, y_test)\n",
    "print(f\"Test loss: {loss.item()}\")\n",
    "cost_final.append([\"lineaire\", loss.item()])\n",
    "\n",
    "cost_history = np.array(cost_history)\n",
    "plt.plot(cost_history[:, 0], cost_history[:, 1])\n",
    "plt.xlabel(\"Iterations\")\n",
    "plt.ylabel(\"Loss\")\n",
    "plt.show()"
   ],
   "outputs": [
    {
     "name": "stdout",
     "output_type": "stream",
     "text": [
      "Nombre d'exemples :  20640 Dimension :  8\n",
      "Itérations 0: loss 5.368211269378662\n",
      "Itérations 1000: loss 5.168547630310059\n",
      "Itérations 2000: loss 4.978397369384766\n",
      "Itérations 3000: loss 4.797240734100342\n",
      "Itérations 4000: loss 4.624588966369629\n",
      "Itérations 5000: loss 4.459983825683594\n",
      "Itérations 6000: loss 4.302994728088379\n",
      "Itérations 7000: loss 4.1532158851623535\n",
      "Itérations 8000: loss 4.010271072387695\n",
      "Itérations 9000: loss 3.8738009929656982\n",
      "Itérations 10000: loss 3.7434701919555664\n",
      "Itérations 11000: loss 3.618964195251465\n",
      "Itérations 12000: loss 3.4999847412109375\n",
      "Itérations 13000: loss 3.386251926422119\n",
      "Itérations 14000: loss 3.277503252029419\n",
      "Itérations 15000: loss 3.1734890937805176\n",
      "Itérations 16000: loss 3.0739755630493164\n",
      "Itérations 17000: loss 2.978743076324463\n",
      "Itérations 18000: loss 2.887582302093506\n",
      "Itérations 19000: loss 2.800293445587158\n",
      "Itérations 20000: loss 2.7166969776153564\n",
      "Itérations 21000: loss 2.6366119384765625\n",
      "Itérations 22000: loss 2.5598721504211426\n",
      "Itérations 23000: loss 2.486323356628418\n",
      "Itérations 24000: loss 2.415815830230713\n",
      "Itérations 25000: loss 2.348207473754883\n",
      "Itérations 26000: loss 2.283365488052368\n",
      "Itérations 27000: loss 2.2211644649505615\n",
      "Itérations 28000: loss 2.1614835262298584\n",
      "Itérations 29000: loss 2.1042098999023438\n",
      "Itérations 30000: loss 2.0492360591888428\n",
      "Itérations 31000: loss 1.9964594841003418\n",
      "Itérations 32000: loss 1.9457818269729614\n",
      "Itérations 33000: loss 1.8971132040023804\n",
      "Itérations 34000: loss 1.8503626585006714\n",
      "Itérations 35000: loss 1.805450439453125\n",
      "Itérations 36000: loss 1.7622959613800049\n",
      "Itérations 37000: loss 1.7208240032196045\n",
      "Itérations 38000: loss 1.68096125125885\n",
      "Itérations 39000: loss 1.6426411867141724\n",
      "Itérations 40000: loss 1.6057984828948975\n",
      "Itérations 41000: loss 1.5703709125518799\n",
      "Itérations 42000: loss 1.5362986326217651\n",
      "Itérations 43000: loss 1.5035234689712524\n",
      "Itérations 44000: loss 1.4719957113265991\n",
      "Itérations 45000: loss 1.441670298576355\n",
      "Itérations 46000: loss 1.4124804735183716\n",
      "Itérations 47000: loss 1.384397029876709\n",
      "Itérations 48000: loss 1.3573639392852783\n",
      "Itérations 49000: loss 1.331345796585083\n",
      "Itérations 50000: loss 1.3062916994094849\n",
      "Itérations 51000: loss 1.2821826934814453\n",
      "Itérations 52000: loss 1.2589608430862427\n",
      "Itérations 53000: loss 1.2365936040878296\n",
      "Itérations 54000: loss 1.2150611877441406\n",
      "Itérations 55000: loss 1.194321632385254\n",
      "Itérations 56000: loss 1.1743417978286743\n",
      "Itérations 57000: loss 1.1550934314727783\n",
      "Itérations 58000: loss 1.1365489959716797\n",
      "Itérations 59000: loss 1.1186801195144653\n",
      "Itérations 60000: loss 1.101460576057434\n",
      "Itérations 61000: loss 1.0848666429519653\n",
      "Itérations 62000: loss 1.068871021270752\n",
      "Itérations 63000: loss 1.053451657295227\n",
      "Itérations 64000: loss 1.0385935306549072\n",
      "Itérations 65000: loss 1.0242704153060913\n",
      "Itérations 66000: loss 1.0104598999023438\n",
      "Itérations 67000: loss 0.9971361756324768\n",
      "Itérations 68000: loss 0.9843031764030457\n",
      "Itérations 69000: loss 0.9719192981719971\n",
      "Itérations 70000: loss 0.9599728584289551\n",
      "Itérations 71000: loss 0.9484587907791138\n",
      "Itérations 72000: loss 0.9373403191566467\n",
      "Itérations 73000: loss 0.926629900932312\n",
      "Itérations 74000: loss 0.9162840843200684\n",
      "Itérations 75000: loss 0.906313955783844\n",
      "Itérations 76000: loss 0.8966875076293945\n",
      "Itérations 77000: loss 0.8873977661132812\n",
      "Itérations 78000: loss 0.8784410953521729\n",
      "Itérations 79000: loss 0.8697888255119324\n",
      "Test loss: 1.349327564239502\n"
     ]
    },
    {
     "data": {
      "text/plain": [
       "<Figure size 640x480 with 1 Axes>"
      ],
      "image/png": "[encoded data removed]"
     },
     "metadata": {},
     "output_type": "display_data"
    }
   ],
   "execution_count": 9
  },
  {
   "metadata": {},
   "cell_type": "markdown",
   "source": [
    "### Regression Non Linéaire\n",
    "\n",
    "Ajouter une classe Function Tanh sur le modèle des classe déclarées ci-dessus et appliquer une descente de gradient sur le problème précédent qui utilise un réseau de neurones à une couche cachée de 10 neurones. \n"
   ]
  },
  {
   "metadata": {
    "ExecuteTime": {
     "end_time": "2024-11-15T10:42:59.967235Z",
     "start_time": "2024-11-15T10:42:59.963958Z"
    }
   },
   "cell_type": "code",
   "source": [
    "# modulaire ( ajouter fonction tanh avec son forward et backward)\n",
    "class Tanh(Function):\n",
    "    @staticmethod\n",
    "    def forward(ctx, x):\n",
    "        # Calculer tanh et sauvegarder le contexte pour le backward\n",
    "        ctx.save_for_backward(x)\n",
    "        return torch.tanh(x)\n",
    "\n",
    "    @staticmethod\n",
    "    def backward(ctx, grad_output):\n",
    "        # Récupérer x depuis le contexte\n",
    "        (x,) = ctx.saved_tensors\n",
    "        # Calculer le gradient local : 1 - tanh^2(x)\n",
    "        grad_x = 1 - torch.tanh(x) ** 2\n",
    "        # Appliquer la règle de la chaîne\n",
    "        return grad_output * grad_x\n",
    "\n",
    "\n",
    "tanh = Tanh.apply"
   ],
   "outputs": [],
   "execution_count": 10
  },
  {
   "metadata": {
    "ExecuteTime": {
     "end_time": "2024-11-15T10:43:00.022645Z",
     "start_time": "2024-11-15T10:43:00.008827Z"
    }
   },
   "cell_type": "code",
   "source": [
    "# Test du gradient de Tanh (sur le même modèle que MSE)\n",
    "\n",
    "x = torch.randn(13, 5,requires_grad=True,dtype=torch.float64)\n",
    "torch.autograd.gradcheck(tanh,x)"
   ],
   "outputs": [
    {
     "data": {
      "text/plain": [
       "True"
      ]
     },
     "execution_count": 11,
     "metadata": {},
     "output_type": "execute_result"
    }
   ],
   "execution_count": 11
  },
  {
   "metadata": {
    "ExecuteTime": {
     "end_time": "2024-11-15T10:44:33.526839Z",
     "start_time": "2024-11-15T10:43:00.060895Z"
    }
   },
   "cell_type": "code",
   "source": [
    "# Chargement des données California_Housing et transformation en tenseurs.\n",
    "from sklearn.datasets import fetch_california_housing\n",
    "housing = fetch_california_housing()  # Chargement des données\n",
    "x = torch.tensor(housing['data'], dtype=torch.float)\n",
    "y = torch.tensor(housing['target'], dtype=torch.float).view(-1, 1)\n",
    "\n",
    "# Normalisation des données\n",
    "x = (x - x.mean(dim=0)) / x.std(dim=0)\n",
    "\n",
    "print(\"Nombre d'exemples : \", x.size(0), \"Dimension : \", x.size(1))\n",
    "\n",
    "# Division des données en ensemble d'entraînement et de test\n",
    "x_train = x[:int(0.8 * len(x))]\n",
    "y_train = y[:int(0.8 * len(y))]\n",
    "x_test = x[int(0.8 * len(x)):]\n",
    "y_test = y[int(0.8 * len(y)):]\n",
    "\n",
    "# Initialisation aléatoire des poids et biais avec de petites valeurs\n",
    "input_dim = x.size(1)  # 8\n",
    "hidden_dim = 10\n",
    "output_dim = 1\n",
    "\n",
    "# Poids et biais pour la couche cachée\n",
    "w1 = torch.randn(input_dim, hidden_dim) * 0.01\n",
    "b1 = torch.zeros(1, hidden_dim)\n",
    "\n",
    "# Poids et biais pour la couche de sortie\n",
    "w2 = torch.randn(hidden_dim, output_dim) * 0.01\n",
    "b2 = torch.zeros(1, output_dim)\n",
    "\n",
    "EPOCHS = 80000\n",
    "EPS = 1e-4 \n",
    "\n",
    "cost_history = []\n",
    "\n",
    "for n_iter in range(EPOCHS):\n",
    "    # Création des contextes\n",
    "    ctx_linear1 = Context()\n",
    "    ctx_tanh = Context()\n",
    "    ctx_linear2 = Context()\n",
    "    ctx_mse = Context()\n",
    "\n",
    "    # Forward pass\n",
    "    h_pre = Linear.forward(ctx_linear1, x_train, w1, b1)    # Couche cachée linéaire\n",
    "    h = Tanh.forward(ctx_tanh, h_pre)                       # Activation tanh\n",
    "    yhat = Linear.forward(ctx_linear2, h, w2, b2)           # Couche de sortie linéaire\n",
    "    loss = MSE.forward(ctx_mse, yhat, y_train)              # Calcul de la perte MSE\n",
    "\n",
    "    cost_history.append([n_iter, loss.item()])\n",
    "    if n_iter % 1000 == 0:\n",
    "        print(f\"Itérations {n_iter}: loss {loss.item()}\")\n",
    "\n",
    "    # Backward pass\n",
    "    grad_output = torch.tensor(1.0)\n",
    "    grad_yhat, _ = MSE.backward(ctx_mse, grad_output)                    # Gradient par rapport à yhat\n",
    "    grad_h, grad_w2, grad_b2 = Linear.backward(ctx_linear2, grad_yhat)   # Gradients couche de sortie\n",
    "    grad_h_pre = Tanh.backward(ctx_tanh, grad_h)                         # Gradient à travers tanh\n",
    "    _, grad_w1, grad_b1 = Linear.backward(ctx_linear1, grad_h_pre)       # Gradients couche cachée\n",
    "\n",
    "    # Mise à jour des poids et biais\n",
    "    w1 -= EPS * grad_w1\n",
    "    b1 -= EPS * grad_b1\n",
    "    w2 -= EPS * grad_w2\n",
    "    b2 -= EPS * grad_b2\n",
    "\n",
    "# Test du modèle\n",
    "ctx_linear1_test = Context()\n",
    "ctx_tanh_test = Context()\n",
    "ctx_linear2_test = Context()\n",
    "\n",
    "h_pre_test = Linear.forward(ctx_linear1_test, x_test, w1, b1)\n",
    "h_test = Tanh.forward(ctx_tanh_test, h_pre_test)\n",
    "yhat_test = Linear.forward(ctx_linear2_test, h_test, w2, b2)\n",
    "loss_test = MSE.forward(Context(), yhat_test, y_test)\n",
    "print(f\"Test loss: {loss_test.item()}\")\n",
    "cost_final.append([\"tanh\", loss_test.item()])\n",
    "\n",
    "# Affichage de l'évolution de la perte\n",
    "cost_history = np.array(cost_history)\n",
    "plt.plot(cost_history[:, 0], cost_history[:, 1])\n",
    "plt.xlabel(\"Iterations\")\n",
    "plt.ylabel(\"Loss\")\n",
    "plt.title(\"Évolution de la perte pendant l'entraînement\")\n",
    "plt.show()"
   ],
   "outputs": [
    {
     "name": "stdout",
     "output_type": "stream",
     "text": [
      "Nombre d'exemples :  20640 Dimension :  8\n",
      "Itérations 0: loss 5.37249231338501\n",
      "Itérations 1000: loss 4.024125099182129\n",
      "Itérations 2000: loss 3.1199963092803955\n",
      "Itérations 3000: loss 2.5130999088287354\n",
      "Itérations 4000: loss 2.105081796646118\n",
      "Itérations 5000: loss 1.8300094604492188\n",
      "Itérations 6000: loss 1.643591284751892\n",
      "Itérations 7000: loss 1.5160009860992432\n",
      "Itérations 8000: loss 1.4270875453948975\n",
      "Itérations 9000: loss 1.3631720542907715\n",
      "Itérations 10000: loss 1.314922571182251\n",
      "Itérations 11000: loss 1.275933027267456\n",
      "Itérations 12000: loss 1.2417888641357422\n",
      "Itérations 13000: loss 1.2094517946243286\n",
      "Itérations 14000: loss 1.1768710613250732\n",
      "Itérations 15000: loss 1.1427390575408936\n",
      "Itérations 16000: loss 1.1063563823699951\n",
      "Itérations 17000: loss 1.0675462484359741\n",
      "Itérations 18000: loss 1.026597023010254\n",
      "Itérations 19000: loss 0.984187662601471\n",
      "Itérations 20000: loss 0.9412899613380432\n",
      "Itérations 21000: loss 0.8990347981452942\n",
      "Itérations 22000: loss 0.8585564494132996\n",
      "Itérations 23000: loss 0.820848822593689\n",
      "Itérations 24000: loss 0.7866528034210205\n",
      "Itérations 25000: loss 0.7564018368721008\n",
      "Itérations 26000: loss 0.7302175760269165\n",
      "Itérations 27000: loss 0.7079604268074036\n",
      "Itérations 28000: loss 0.6893004179000854\n",
      "Itérations 29000: loss 0.6737952828407288\n",
      "Itérations 30000: loss 0.6609601378440857\n",
      "Itérations 31000: loss 0.6503190994262695\n",
      "Itérations 32000: loss 0.6414377093315125\n",
      "Itérations 33000: loss 0.6339418888092041\n",
      "Itérations 34000: loss 0.6275178790092468\n",
      "Itérations 35000: loss 0.621917188167572\n",
      "Itérations 36000: loss 0.6169416904449463\n",
      "Itérations 37000: loss 0.6124405264854431\n",
      "Itérations 38000: loss 0.6082989573478699\n",
      "Itérations 39000: loss 0.6044322848320007\n",
      "Itérations 40000: loss 0.6007755398750305\n",
      "Itérations 41000: loss 0.5972816944122314\n",
      "Itérations 42000: loss 0.5939198136329651\n",
      "Itérations 43000: loss 0.5906650424003601\n",
      "Itérations 44000: loss 0.5874976515769958\n",
      "Itérations 45000: loss 0.5844051837921143\n",
      "Itérations 46000: loss 0.5813841223716736\n",
      "Itérations 47000: loss 0.578426718711853\n",
      "Itérations 48000: loss 0.575527548789978\n",
      "Itérations 49000: loss 0.572684109210968\n",
      "Itérations 50000: loss 0.5698944926261902\n",
      "Itérations 51000: loss 0.5671579241752625\n",
      "Itérations 52000: loss 0.5644784569740295\n",
      "Itérations 53000: loss 0.5618531107902527\n",
      "Itérations 54000: loss 0.5592811703681946\n",
      "Itérations 55000: loss 0.5567628741264343\n",
      "Itérations 56000: loss 0.5542982816696167\n",
      "Itérations 57000: loss 0.5518884062767029\n",
      "Itérations 58000: loss 0.5495322942733765\n",
      "Itérations 59000: loss 0.5472311973571777\n",
      "Itérations 60000: loss 0.5449824929237366\n",
      "Itérations 61000: loss 0.542790949344635\n",
      "Itérations 62000: loss 0.5406563878059387\n",
      "Itérations 63000: loss 0.5385768413543701\n",
      "Itérations 64000: loss 0.5365511775016785\n",
      "Itérations 65000: loss 0.5345796346664429\n",
      "Itérations 66000: loss 0.5326614379882812\n",
      "Itérations 67000: loss 0.5307954549789429\n",
      "Itérations 68000: loss 0.5289833545684814\n",
      "Itérations 69000: loss 0.5272232294082642\n",
      "Itérations 70000: loss 0.5255139470100403\n",
      "Itérations 71000: loss 0.5238544940948486\n",
      "Itérations 72000: loss 0.5222442150115967\n",
      "Itérations 73000: loss 0.520684003829956\n",
      "Itérations 74000: loss 0.5191724896430969\n",
      "Itérations 75000: loss 0.5177100300788879\n",
      "Itérations 76000: loss 0.5162943005561829\n",
      "Itérations 77000: loss 0.5149239301681519\n",
      "Itérations 78000: loss 0.5135976076126099\n",
      "Itérations 79000: loss 0.5123143196105957\n",
      "Test loss: 0.4724768102169037\n"
     ]
    },
    {
     "data": {
      "text/plain": [
       "<Figure size 640x480 with 1 Axes>"
      ],
      "image/png": "[encoded data removed]"
     },
     "metadata": {},
     "output_type": "display_data"
    }
   ],
   "execution_count": 12
  },
  {
   "metadata": {
    "ExecuteTime": {
     "end_time": "2024-11-15T10:45:52.527429Z",
     "start_time": "2024-11-15T10:44:33.547853Z"
    }
   },
   "cell_type": "code",
   "source": [
    "# La meme chose avec relu\n",
    "# Chargement des données California_Housing et transformation en tenseurs.\n",
    "from sklearn.datasets import fetch_california_housing\n",
    "housing = fetch_california_housing()  # Chargement des données\n",
    "x = torch.tensor(housing['data'], dtype=torch.float)\n",
    "y = torch.tensor(housing['target'], dtype=torch.float).view(-1, 1)\n",
    "\n",
    "# Normalisation des données\n",
    "x = (x - x.mean(dim=0)) / x.std(dim=0)\n",
    "\n",
    "print(\"Nombre d'exemples : \", x.size(0), \"Dimension : \", x.size(1))\n",
    "\n",
    "# Division des données en ensemble d'entraînement et de test\n",
    "x_train = x[:int(0.8 * len(x))]\n",
    "y_train = y[:int(0.8 * len(y))]\n",
    "x_test = x[int(0.8 * len(x)):]\n",
    "y_test = y[int(0.8 * len(y)):]\n",
    "\n",
    "# Initialisation aléatoire des poids et biais avec de petites valeurs\n",
    "input_dim = x.size(1)  # 8\n",
    "hidden_dim = 10\n",
    "output_dim = 1\n",
    "\n",
    "# Poids et biais pour la couche cachée\n",
    "w1 = torch.randn(input_dim, hidden_dim) * 0.01\n",
    "b1 = torch.zeros(1, hidden_dim)\n",
    "\n",
    "# Poids et biais pour la couche de sortie\n",
    "w2 = torch.randn(hidden_dim, output_dim) * 0.01\n",
    "b2 = torch.zeros(1, output_dim)\n",
    "\n",
    "EPOCHS = 80000\n",
    "EPS = 1e-4 \n",
    "\n",
    "cost_history = []\n",
    "\n",
    "for n_iter in range(EPOCHS):\n",
    "    # Création des contextes\n",
    "    ctx_linear1 = Context()\n",
    "    ctx_relu = Context()\n",
    "    ctx_linear2 = Context()\n",
    "    ctx_mse = Context()\n",
    "\n",
    "    # Forward pass\n",
    "    h_pre = Linear.forward(ctx_linear1, x_train, w1, b1)    # Couche cachée linéaire\n",
    "    h = ReLU.forward(ctx_relu, h_pre)                       # Activation ReLU\n",
    "    yhat = Linear.forward(ctx_linear2, h, w2, b2)           # Couche de sortie linéaire\n",
    "    loss = MSE.forward(ctx_mse, yhat, y_train)              # Calcul de la perte MSE\n",
    "\n",
    "    cost_history.append([n_iter, loss.item()])\n",
    "    if n_iter % 1000 == 0:\n",
    "        print(f\"Itérations {n_iter}: loss {loss.item()}\")\n",
    "\n",
    "    # Backward pass\n",
    "    grad_output = torch.tensor(1.0)\n",
    "    grad_yhat, _ = MSE.backward(ctx_mse, grad_output)                    # Gradient par rapport à yhat\n",
    "    grad_h, grad_w2, grad_b2 = Linear.backward(ctx_linear2, grad_yhat)   # Gradients couche de sortie\n",
    "    grad_h_pre = ReLU.backward(ctx_relu, grad_h)                         # Gradient à travers ReLU\n",
    "    _, grad_w1, grad_b1 = Linear.backward(ctx_linear1, grad_h_pre)       # Gradients couche cachée\n",
    "\n",
    "    # Mise à jour des poids et biais\n",
    "    w1 -= EPS * grad_w1\n",
    "    b1 -= EPS * grad_b1\n",
    "    w2 -= EPS * grad_w2\n",
    "    b2 -= EPS * grad_b2\n",
    "\n",
    "# Test du modèle\n",
    "ctx_linear1_test = Context()\n",
    "ctx_relu_test = Context()\n",
    "ctx_linear2_test = Context()\n",
    "\n",
    "h_pre_test = Linear.forward(ctx_linear1_test, x_test, w1, b1)\n",
    "h_test = ReLU.forward(ctx_relu_test, h_pre_test)\n",
    "yhat_test = Linear.forward(ctx_linear2_test, h_test, w2, b2)\n",
    "loss_test = MSE.forward(Context(), yhat_test, y_test)\n",
    "print(f\"Test loss: {loss_test.item()}\")\n",
    "cost_final.append([\"relu\", loss_test.item()])\n",
    "\n",
    "# Affichage de l'évolution de la perte\n",
    "cost_history = np.array(cost_history)\n",
    "plt.plot(cost_history[:, 0], cost_history[:, 1])\n",
    "plt.xlabel(\"Iterations\")\n",
    "plt.ylabel(\"Loss\")\n",
    "plt.title(\"Évolution de la perte pendant l'entraînement avec ReLU\")\n",
    "plt.show()"
   ],
   "outputs": [
    {
     "name": "stdout",
     "output_type": "stream",
     "text": [
      "Nombre d'exemples :  20640 Dimension :  8\n",
      "Itérations 0: loss 5.372152328491211\n",
      "Itérations 1000: loss 4.024264335632324\n",
      "Itérations 2000: loss 3.120805025100708\n",
      "Itérations 3000: loss 2.514970541000366\n",
      "Itérations 4000: loss 2.1084446907043457\n",
      "Itérations 5000: loss 1.8353385925292969\n",
      "Itérations 6000: loss 1.6514533758163452\n",
      "Itérations 7000: loss 1.527100920677185\n",
      "Itérations 8000: loss 1.4422842264175415\n",
      "Itérations 9000: loss 1.3835017681121826\n",
      "Itérations 10000: loss 1.3415961265563965\n",
      "Itérations 11000: loss 1.3103197813034058\n",
      "Itérations 12000: loss 1.2853583097457886\n",
      "Itérations 13000: loss 1.2636674642562866\n",
      "Itérations 14000: loss 1.243074893951416\n",
      "Itérations 15000: loss 1.2220243215560913\n",
      "Itérations 16000: loss 1.1993647813796997\n",
      "Itérations 17000: loss 1.174303412437439\n",
      "Itérations 18000: loss 1.1463584899902344\n",
      "Itérations 19000: loss 1.1153825521469116\n",
      "Itérations 20000: loss 1.081591248512268\n",
      "Itérations 21000: loss 1.045520305633545\n",
      "Itérations 22000: loss 1.00798761844635\n",
      "Itérations 23000: loss 0.970011830329895\n",
      "Itérations 24000: loss 0.9327336549758911\n",
      "Itérations 25000: loss 0.8971983194351196\n",
      "Itérations 26000: loss 0.8642074465751648\n",
      "Itérations 27000: loss 0.8342882394790649\n",
      "Itérations 28000: loss 0.8076939582824707\n",
      "Itérations 29000: loss 0.784399151802063\n",
      "Itérations 30000: loss 0.764244556427002\n",
      "Itérations 31000: loss 0.7469472289085388\n",
      "Itérations 32000: loss 0.7321451306343079\n",
      "Itérations 33000: loss 0.7195024490356445\n",
      "Itérations 34000: loss 0.7086846232414246\n",
      "Itérations 35000: loss 0.6993841528892517\n",
      "Itérations 36000: loss 0.6913371682167053\n",
      "Itérations 37000: loss 0.6843327879905701\n",
      "Itérations 38000: loss 0.6781749725341797\n",
      "Itérations 39000: loss 0.6727145910263062\n",
      "Itérations 40000: loss 0.6678016781806946\n",
      "Itérations 41000: loss 0.6633387804031372\n",
      "Itérations 42000: loss 0.6592617034912109\n",
      "Itérations 43000: loss 0.6554971933364868\n",
      "Itérations 44000: loss 0.6519788503646851\n",
      "Itérations 45000: loss 0.6486579775810242\n",
      "Itérations 46000: loss 0.645511269569397\n",
      "Itérations 47000: loss 0.6424967050552368\n",
      "Itérations 48000: loss 0.6395872831344604\n",
      "Itérations 49000: loss 0.6367899179458618\n",
      "Itérations 50000: loss 0.6340621113777161\n",
      "Itérations 51000: loss 0.6313924789428711\n",
      "Itérations 52000: loss 0.6287717819213867\n",
      "Itérations 53000: loss 0.6261954307556152\n",
      "Itérations 54000: loss 0.6236719489097595\n",
      "Itérations 55000: loss 0.6211870312690735\n",
      "Itérations 56000: loss 0.6187169551849365\n",
      "Itérations 57000: loss 0.6162747144699097\n",
      "Itérations 58000: loss 0.6138626933097839\n",
      "Itérations 59000: loss 0.6114700436592102\n",
      "Itérations 60000: loss 0.6090974807739258\n",
      "Itérations 61000: loss 0.6067368984222412\n",
      "Itérations 62000: loss 0.6043967604637146\n",
      "Itérations 63000: loss 0.6020668745040894\n",
      "Itérations 64000: loss 0.5997346043586731\n",
      "Itérations 65000: loss 0.5974096059799194\n",
      "Itérations 66000: loss 0.5950900316238403\n",
      "Itérations 67000: loss 0.5927736759185791\n",
      "Itérations 68000: loss 0.5904752612113953\n",
      "Itérations 69000: loss 0.5881912112236023\n",
      "Itérations 70000: loss 0.5859165191650391\n",
      "Itérations 71000: loss 0.5836482644081116\n",
      "Itérations 72000: loss 0.5814061164855957\n",
      "Itérations 73000: loss 0.5791842937469482\n",
      "Itérations 74000: loss 0.5769790410995483\n",
      "Itérations 75000: loss 0.5747910737991333\n",
      "Itérations 76000: loss 0.5726246237754822\n",
      "Itérations 77000: loss 0.5704860687255859\n",
      "Itérations 78000: loss 0.5683758854866028\n",
      "Itérations 79000: loss 0.5662924647331238\n",
      "Test loss: 0.5616971254348755\n"
     ]
    },
    {
     "data": {
      "text/plain": [
       "<Figure size 640x480 with 1 Axes>"
      ],
      "image/png": "[encoded data removed]"
     },
     "metadata": {},
     "output_type": "display_data"
    }
   ],
   "execution_count": 13
  },
  {
   "metadata": {
    "ExecuteTime": {
     "end_time": "2024-11-15T10:49:47.717221Z",
     "start_time": "2024-11-15T10:49:47.660619Z"
    }
   },
   "cell_type": "code",
   "source": [
    "# Extraire les noms des activations et les pertes finales en convertissant en float\n",
    "activation_names = [item[0] for item in cost_final]\n",
    "loss_values = [float(item[1]) for item in cost_final]\n",
    "\n",
    "# Créer l'histogramme\n",
    "plt.figure(figsize=(8, 6))\n",
    "plt.bar(activation_names, loss_values, color='skyblue')\n",
    "\n",
    "# Ajouter les étiquettes et le titre\n",
    "plt.xlabel('Fonctions d\\'activation')\n",
    "plt.ylabel('Pertes finales sur le test')\n",
    "plt.title('Comparaison des pertes des différentes fonctions d\\'activation (80 000 epoch)')\n",
    "\n",
    "# Afficher les valeurs au-dessus des barres\n",
    "for i, v in enumerate(loss_values):\n",
    "    plt.text(i, v + 0.01, f\"{v:.4f}\", ha='center', fontweight='bold')\n",
    "\n",
    "# Afficher le graphique\n",
    "plt.show()"
   ],
   "outputs": [
    {
     "data": {
      "text/plain": [
       "<Figure size 800x600 with 1 Axes>"
      ],
      "image/png": "[encoded data removed]"
     },
     "metadata": {},
     "output_type": "display_data"
    }
   ],
   "execution_count": 17
  }
 ],
 "metadata": {
  "accelerator": "GPU",
  "colab": {
   "provenance": []
  },
  "kernelspec": {
   "display_name": "Python 3 (ipykernel)",
   "language": "python",
   "name": "python3"
  },
  "language_info": {
   "codemirror_mode": {
    "name": "ipython",
    "version": 3
   },
   "file_extension": ".py",
   "mimetype": "text/x-python",
   "name": "python",
   "nbconvert_exporter": "python",
   "pygments_lexer": "ipython3",
   "version": "3.11.5"
  }
 },
 "nbformat": 4,
 "nbformat_minor": 4
}
