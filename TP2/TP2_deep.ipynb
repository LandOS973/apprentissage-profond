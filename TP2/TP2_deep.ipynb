{
 "cells": [
  {
   "cell_type": "markdown",
   "metadata": {
    "id": "_TE2ItlsI956"
   },
   "source": [
    "# Deep Learning - Introduction à Pytorch\n",
    "\n",
    "\n",
    "## TP2 : Fonctions Dérivables\n",
    "\n",
    "Sylvain Lamprier (sylvain.lamprier@univ-angers.fr)\n",
    "\n",
    "Supports adaptés de Nicolas Baskiotis (nicolas.baskiotis@sorbonne-univeriste.fr) et Benjamin Piwowarski (benjamin.piwowarski@sorbonne-universite.fr) -- MLIA/ISIR, Sorbonne Université"
   ]
  },
  {
   "cell_type": "code",
   "metadata": {
    "id": "3Y9YOOHHhJKY",
    "outputId": "47e1d462-0547-428d-9fe4-32c9a3d7481d",
    "ExecuteTime": {
     "end_time": "2024-11-18T09:42:04.292234Z",
     "start_time": "2024-11-18T09:42:02.950165Z"
    }
   },
   "source": [
    "import torch\n",
    "print(\"La version de torch est : \",torch.__version__)\n",
    "print(\"Le calcul GPU est disponible ? \", torch.cuda.is_available())\n",
    "\n",
    "import numpy as np\n",
    "import sklearn\n",
    "print(\"sklearn \",sklearn.__version__)\n",
    "print(\"numpy \",np.__version__)"
   ],
   "outputs": [
    {
     "name": "stdout",
     "output_type": "stream",
     "text": [
      "La version de torch est :  2.5.1+cu124\n",
      "Le calcul GPU est disponible ?  False\n",
      "sklearn  1.5.2\n",
      "numpy  2.1.3\n"
     ]
    }
   ],
   "execution_count": 1
  },
  {
   "cell_type": "code",
   "metadata": {
    "id": "6QyE0spvRexi",
    "ExecuteTime": {
     "end_time": "2024-11-18T09:42:04.332191Z",
     "start_time": "2024-11-18T09:42:04.326687Z"
    }
   },
   "source": [
    "import torch\n",
    "from torch.autograd import Function\n",
    "from torch.autograd import gradcheck\n",
    "\n",
    "\n",
    "class Context:\n",
    "    \"\"\"Un objet contexte très simplifié pour simuler PyTorch\n",
    "\n",
    "    Un contexte différent doit être utilisé à chaque forward\n",
    "    \"\"\"\n",
    "    def __init__(self):\n",
    "        self._saved_tensors = ()\n",
    "    def save_for_backward(self, *args):\n",
    "        self._saved_tensors = args\n",
    "    @property\n",
    "    def saved_tensors(self):\n",
    "        return self._saved_tensors\n",
    "\n",
    "\n",
    "class MSE(Function):\n",
    "    \"\"\"Début d'implementation de la fonction MSE\"\"\"\n",
    "    # ctx est un objet contexte calculé par les fonctions précédentes\n",
    "    # yhat est la prédiction du modèle ( c'est une fonction loss)\n",
    "    # moindre carré entre yhat et y\n",
    "    # ctx.savebackwards permet de sauvegarder les valeurs nécessaires pour le backward\n",
    "    @staticmethod\n",
    "    def forward(ctx, yhat, y):\n",
    "        # Sauvegarde des valeurs nécessaires pour le backward\n",
    "        ctx.save_for_backward(yhat, y)\n",
    "        \n",
    "        # Calcul de la perte MSE : Mean((yhat - y)^2)\n",
    "        #loss = torch.mean((yhat - y) ** 2)\n",
    "        loss = ((yhat - y) ** 2).mean(0)\n",
    "        return loss\n",
    "\n",
    "    # recuperer les tensors sauvegardés dans le contexte pendant le forward\n",
    "    # pour calculer les gradients\n",
    "    # retourne le gradient par rapport au premier element passer dans le forward (yhat) \n",
    "    # et le gradient par rapport au deuxieme element passer dans le forward (y)\n",
    "    # recuper tensor et calculer gradiant qui utilse grad_output\n",
    "    # transformer grad_output en tensor et retourner le tuple de gradient de yhat et y\n",
    "    @staticmethod\n",
    "    def backward(ctx, grad_output):\n",
    "        # Récupérer les valeurs sauvegardées\n",
    "        yhat, y = ctx.saved_tensors\n",
    "    \n",
    "        N = yhat.size(0) # Nombre d'exemples dans le batch\n",
    "        grad_yhat = 2/N * (yhat - y) # Gradient par rapport à yhat\n",
    "        grad_y = -2/N * (yhat - y) # Gradient par rapport à y\n",
    "    \n",
    "        # Retourner les gradients ajustés avec grad_output\n",
    "        return grad_output * grad_yhat, grad_output * grad_y\n",
    "\n",
    "        \n",
    "\n",
    "# [[STUDENT]] Implémenter la fonction Linear(X, W, b)sur le même modèle que MSE\n",
    "# avec X le batch d'exemple, W les poids, b le biais\n",
    "# retourne XW + b\n",
    "class Linear(Function):\n",
    "    @staticmethod\n",
    "    def forward(ctx, x, w, b):\n",
    "        # Sauvegarde des valeurs nécessaires pour le backward\n",
    "        ctx.save_for_backward(x, w, b)\n",
    "        \n",
    "        # Calcul de la sortie\n",
    "        output = torch.mm(x, w) + b\n",
    "        return output\n",
    "\n",
    "    @staticmethod\n",
    "    def backward(ctx, grad_output):\n",
    "        # Récupérer les valeurs sauvegardées\n",
    "        x, w, b = ctx.saved_tensors\n",
    "        \n",
    "        # Calcul des gradients locaux\n",
    "        grad_x = torch.mm(grad_output, w.t())\n",
    "        grad_w = torch.mm(x.t(), grad_output)\n",
    "        grad_b = grad_output.sum(0)\n",
    "        \n",
    "        return grad_x, grad_w, grad_b\n",
    "\n",
    "## Utile pour gradcheck\n",
    "mse = MSE.apply\n",
    "linear = Linear.apply"
   ],
   "outputs": [],
   "execution_count": 2
  },
  {
   "cell_type": "code",
   "metadata": {
    "id": "9tlIwKy6Rexj",
    "outputId": "83456655-655a-4f21-a497-d8e873e29ac6",
    "ExecuteTime": {
     "end_time": "2024-11-18T09:42:04.702327Z",
     "start_time": "2024-11-18T09:42:04.418477Z"
    }
   },
   "source": [
    "# Test du gradient de MSE\n",
    "yhat = torch.randn(10,5, requires_grad=True, dtype=torch.float64)\n",
    "y = torch.randn(10,5, requires_grad=True, dtype=torch.float64)\n",
    "torch.autograd.gradcheck(mse, (yhat, y))"
   ],
   "outputs": [
    {
     "data": {
      "text/plain": [
       "True"
      ]
     },
     "execution_count": 3,
     "metadata": {},
     "output_type": "execute_result"
    }
   ],
   "execution_count": 3
  },
  {
   "cell_type": "code",
   "metadata": {
    "id": "49Ymm1PERexj",
    "outputId": "96ebc9d5-d541-4cfb-ab15-7350a0763e50",
    "ExecuteTime": {
     "end_time": "2024-11-18T09:42:04.751975Z",
     "start_time": "2024-11-18T09:42:04.715289Z"
    }
   },
   "source": [
    "# Test du gradient de Linear (sur le même modèle que MSE)\n",
    "x = torch.randn(13, 5,requires_grad=True,dtype=torch.float64)\n",
    "w = torch.randn(5, 7,requires_grad=True,dtype=torch.float64)\n",
    "b = torch.randn(7,requires_grad=True,dtype=torch.float64)\n",
    "torch.autograd.gradcheck(linear,(x,w,b))"
   ],
   "outputs": [
    {
     "data": {
      "text/plain": [
       "True"
      ]
     },
     "execution_count": 4,
     "metadata": {},
     "output_type": "execute_result"
    }
   ],
   "execution_count": 4
  },
  {
   "cell_type": "code",
   "metadata": {
    "ExecuteTime": {
     "end_time": "2024-11-18T09:42:04.773068Z",
     "start_time": "2024-11-18T09:42:04.769930Z"
    }
   },
   "source": [
    "# modulaire ( ajouter fonction tanh avec son forward et backward)\n",
    "class Tanh(Function):\n",
    "    @staticmethod\n",
    "    def forward(ctx, x):\n",
    "        # Calculer tanh et sauvegarder le contexte pour le backward\n",
    "        ctx.save_for_backward(x)\n",
    "        return torch.tanh(x)\n",
    "\n",
    "    @staticmethod\n",
    "    def backward(ctx, grad_output):\n",
    "        # Récupérer x depuis le contexte\n",
    "        (x,) = ctx.saved_tensors\n",
    "        # Calculer le gradient local : 1 - tanh^2(x)\n",
    "        grad_x = 1 - torch.tanh(x)**2\n",
    "        # Appliquer la règle de la chaîne\n",
    "        return grad_output * grad_x\n",
    "    \n",
    "tanh = Tanh.apply"
   ],
   "outputs": [],
   "execution_count": 5
  },
  {
   "cell_type": "code",
   "metadata": {
    "ExecuteTime": {
     "end_time": "2024-11-18T09:42:04.855967Z",
     "start_time": "2024-11-18T09:42:04.822293Z"
    }
   },
   "source": [
    "print(\"Testing Tanh:\")\n",
    "x = torch.randn(13, 5,requires_grad=True,dtype=torch.float64)\n",
    "torch.autograd.gradcheck(tanh,(x,))"
   ],
   "outputs": [
    {
     "name": "stdout",
     "output_type": "stream",
     "text": [
      "Testing Tanh:\n"
     ]
    },
    {
     "data": {
      "text/plain": [
       "True"
      ]
     },
     "execution_count": 6,
     "metadata": {},
     "output_type": "execute_result"
    }
   ],
   "execution_count": 6
  },
  {
   "cell_type": "code",
   "metadata": {
    "ExecuteTime": {
     "end_time": "2024-11-18T09:42:04.886318Z",
     "start_time": "2024-11-18T09:42:04.882789Z"
    }
   },
   "source": [
    "class ReLU(Function):\n",
    "    @staticmethod\n",
    "    def forward(ctx, x):\n",
    "        # Calculer ReLU et sauvegarder le contexte pour le backward\n",
    "        ctx.save_for_backward(x)\n",
    "        return torch.relu(x)\n",
    "\n",
    "    @staticmethod\n",
    "    def backward(ctx, grad_output):\n",
    "        # Récupérer x depuis le contexte\n",
    "        (x,) = ctx.saved_tensors\n",
    "        # Calculer le gradient local : 1 si x > 0, sinon 0\n",
    "        grad_x = (x > 0).to(x.dtype)  # Convertir en même type que x\n",
    "        # Appliquer la règle de la chaîne\n",
    "        return grad_output * grad_x"
   ],
   "outputs": [],
   "execution_count": 7
  },
  {
   "cell_type": "code",
   "metadata": {
    "ExecuteTime": {
     "end_time": "2024-11-18T09:42:04.944063Z",
     "start_time": "2024-11-18T09:42:04.932348Z"
    }
   },
   "source": [
    "# Tester ReLU avec gradcheck\n",
    "print(\"Testing ReLU:\")\n",
    "relu = ReLU.apply\n",
    "torch.autograd.gradcheck(relu, (x,))"
   ],
   "outputs": [
    {
     "name": "stdout",
     "output_type": "stream",
     "text": [
      "Testing ReLU:\n"
     ]
    },
    {
     "data": {
      "text/plain": [
       "True"
      ]
     },
     "execution_count": 8,
     "metadata": {},
     "output_type": "execute_result"
    }
   ],
   "execution_count": 8
  },
  {
   "cell_type": "markdown",
   "metadata": {
    "id": "pd6RAkfxRexk"
   },
   "source": [
    "## Descente de Gradient\n",
    "\n",
    "Compléter ci-dessous le code pour réaliser la même regression linéaire qu'au TP précédent, mais en utilisant les objets Function déclarés ci-dessus."
   ]
  },
  {
   "cell_type": "code",
   "metadata": {
    "id": "RcYmY2f1Rexk",
    "outputId": "b8d01166-b684-42b9-e422-1d6e09301156",
    "ExecuteTime": {
     "end_time": "2024-11-18T09:42:29.572845Z",
     "start_time": "2024-11-18T09:42:04.989489Z"
    }
   },
   "source": [
    "import torch\n",
    "from torch.autograd import Function\n",
    "from sklearn.datasets import fetch_california_housing\n",
    "import matplotlib.pyplot as plt\n",
    "\n",
    "housing = fetch_california_housing()  ## chargement des données\n",
    "x = torch.tensor(housing['data'], dtype=torch.float)\n",
    "y = torch.tensor(housing['target'], dtype=torch.float).view(-1, 1)\n",
    "x = (x - x.mean(dim=0)) / x.std(dim=0)\n",
    "\n",
    "print(\"Nombre d'exemples : \", x.size(0), \"Dimension : \", x.size(1))\n",
    "\n",
    "x_train = x[:int(0.8 * len(x))]\n",
    "y_train = y[:int(0.8 * len(y))]\n",
    "x_test = x[int(0.8 * len(x)):]\n",
    "y_test = y[int(0.8 * len(y)):]\n",
    "\n",
    "# Initialisation aléatoire de w et b with small values\n",
    "w = torch.randn(x.size(1), 1) * 0.01\n",
    "b = torch.zeros(1, 1)\n",
    "\n",
    "EPOCHS = 80000\n",
    "EPS = 1e-5\n",
    "\n",
    "cost_history = []\n",
    "cost_final = []\n",
    "\n",
    "for n_iter in range(EPOCHS):\n",
    "    ctx_linear = Context()\n",
    "    ctx_mse = Context()\n",
    "    yhat = Linear.forward(ctx_linear, x_train, w, b)\n",
    "    loss = MSE.forward(ctx_mse, yhat, y_train)\n",
    "    cost_history.append([n_iter, loss.item()])\n",
    "    if n_iter % 10000 == 0:\n",
    "        print(f\"Itérations {n_iter}: loss {loss.item()}\")\n",
    "    grad_output = torch.tensor(1.0)\n",
    "    grad_yhat, _ = MSE.backward(ctx_mse, grad_output)\n",
    "    _, grad_w, grad_b = Linear.backward(ctx_linear, grad_yhat)\n",
    "    w = w - EPS * grad_w\n",
    "    b = b - EPS * grad_b\n",
    "    \n",
    "# test du modèle \n",
    "yhat = Linear.forward(Context(), x_test, w, b)\n",
    "loss = MSE.forward(Context(), yhat, y_test)\n",
    "print(f\"Test loss: {loss.item()}\")\n",
    "cost_final.append([\"lineaire\", loss.item()])\n",
    "\n",
    "cost_history = np.array(cost_history)\n",
    "plt.plot(cost_history[:, 0], cost_history[:, 1])\n",
    "plt.xlabel(\"Iterations\")\n",
    "plt.ylabel(\"Loss\")\n",
    "plt.show()"
   ],
   "outputs": [
    {
     "name": "stdout",
     "output_type": "stream",
     "text": [
      "Nombre d'exemples :  20640 Dimension :  8\n",
      "Itérations 0: loss 5.356249809265137\n",
      "Itérations 10000: loss 3.7394561767578125\n",
      "Itérations 20000: loss 2.7165513038635254\n",
      "Itérations 30000: loss 2.050978422164917\n",
      "Itérations 40000: loss 1.6084606647491455\n",
      "Itérations 50000: loss 1.30939519405365\n",
      "Itérations 60000: loss 1.104760766029358\n",
      "Itérations 70000: loss 0.963340699672699\n",
      "Test loss: 1.3584457635879517\n"
     ]
    },
    {
     "data": {
      "text/plain": [
       "<Figure size 640x480 with 1 Axes>"
      ],
      "image/png": "[encoded data removed]"
     },
     "metadata": {},
     "output_type": "display_data"
    }
   ],
   "execution_count": 9
  },
  {
   "cell_type": "markdown",
   "metadata": {},
   "source": [
    "### Regression Non Linéaire\n",
    "\n",
    "Ajouter une classe Function Tanh sur le modèle des classe déclarées ci-dessus et appliquer une descente de gradient sur le problème précédent qui utilise un réseau de neurones à une couche cachée de 10 neurones. \n"
   ]
  },
  {
   "cell_type": "code",
   "metadata": {
    "ExecuteTime": {
     "end_time": "2024-11-18T09:42:29.600133Z",
     "start_time": "2024-11-18T09:42:29.595907Z"
    }
   },
   "source": [
    "# modulaire ( ajouter fonction tanh avec son forward et backward)\n",
    "class Tanh(Function):\n",
    "    @staticmethod\n",
    "    def forward(ctx, x):\n",
    "        # Calculer tanh et sauvegarder le contexte pour le backward\n",
    "        ctx.save_for_backward(x)\n",
    "        return torch.tanh(x)\n",
    "\n",
    "    @staticmethod\n",
    "    def backward(ctx, grad_output):\n",
    "        # Récupérer x depuis le contexte\n",
    "        (x,) = ctx.saved_tensors\n",
    "        # Calculer le gradient local : 1 - tanh^2(x)\n",
    "        grad_x = 1 - torch.tanh(x) ** 2\n",
    "        # Appliquer la règle de la chaîne\n",
    "        return grad_output * grad_x\n",
    "\n",
    "\n",
    "tanh = Tanh.apply"
   ],
   "outputs": [],
   "execution_count": 10
  },
  {
   "cell_type": "code",
   "metadata": {
    "ExecuteTime": {
     "end_time": "2024-11-18T09:42:29.662882Z",
     "start_time": "2024-11-18T09:42:29.646838Z"
    }
   },
   "source": [
    "# Test du gradient de Tanh (sur le même modèle que MSE)\n",
    "\n",
    "x = torch.randn(13, 5,requires_grad=True,dtype=torch.float64)\n",
    "torch.autograd.gradcheck(tanh,x)"
   ],
   "outputs": [
    {
     "data": {
      "text/plain": [
       "True"
      ]
     },
     "execution_count": 11,
     "metadata": {},
     "output_type": "execute_result"
    }
   ],
   "execution_count": 11
  },
  {
   "cell_type": "code",
   "metadata": {
    "ExecuteTime": {
     "end_time": "2024-11-18T09:44:09.068470Z",
     "start_time": "2024-11-18T09:42:29.716159Z"
    }
   },
   "source": [
    "# Chargement des données California_Housing et transformation en tenseurs.\n",
    "from sklearn.datasets import fetch_california_housing\n",
    "housing = fetch_california_housing()  # Chargement des données\n",
    "x = torch.tensor(housing['data'], dtype=torch.float)\n",
    "y = torch.tensor(housing['target'], dtype=torch.float).view(-1, 1)\n",
    "\n",
    "# Normalisation des données\n",
    "x = (x - x.mean(dim=0)) / x.std(dim=0)\n",
    "\n",
    "print(\"Nombre d'exemples : \", x.size(0), \"Dimension : \", x.size(1))\n",
    "\n",
    "# Division des données en ensemble d'entraînement et de test\n",
    "x_train = x[:int(0.8 * len(x))]\n",
    "y_train = y[:int(0.8 * len(y))]\n",
    "x_test = x[int(0.8 * len(x)):]\n",
    "y_test = y[int(0.8 * len(y)):]\n",
    "\n",
    "# Initialisation aléatoire des poids et biais avec de petites valeurs\n",
    "input_dim = x.size(1)  # 8\n",
    "hidden_dim = 10\n",
    "output_dim = 1\n",
    "\n",
    "# Poids et biais pour la couche cachée\n",
    "w1 = torch.randn(input_dim, hidden_dim) * 0.01\n",
    "b1 = torch.zeros(1, hidden_dim)\n",
    "\n",
    "# Poids et biais pour la couche de sortie\n",
    "w2 = torch.randn(hidden_dim, output_dim) * 0.01\n",
    "b2 = torch.zeros(1, output_dim)\n",
    "\n",
    "EPOCHS = 80000\n",
    "EPS = 1e-4 \n",
    "\n",
    "cost_history = []\n",
    "\n",
    "for n_iter in range(EPOCHS):\n",
    "    # Création des contextes\n",
    "    ctx_linear1 = Context()\n",
    "    ctx_tanh = Context()\n",
    "    ctx_linear2 = Context()\n",
    "    ctx_mse = Context()\n",
    "\n",
    "    # Forward pass\n",
    "    h_pre = Linear.forward(ctx_linear1, x_train, w1, b1)    # Couche cachée linéaire\n",
    "    h = Tanh.forward(ctx_tanh, h_pre)                       # Activation tanh\n",
    "    yhat = Linear.forward(ctx_linear2, h, w2, b2)           # Couche de sortie linéaire\n",
    "    loss = MSE.forward(ctx_mse, yhat, y_train)              # Calcul de la perte MSE\n",
    "\n",
    "    cost_history.append([n_iter, loss.item()])\n",
    "    if n_iter % 10000 == 0:\n",
    "        print(f\"Itérations {n_iter}: loss {loss.item()}\")\n",
    "\n",
    "    # Backward pass\n",
    "    grad_output = torch.tensor(1.0)\n",
    "    grad_yhat, _ = MSE.backward(ctx_mse, grad_output)                    # Gradient par rapport à yhat\n",
    "    grad_h, grad_w2, grad_b2 = Linear.backward(ctx_linear2, grad_yhat)   # Gradients couche de sortie\n",
    "    grad_h_pre = Tanh.backward(ctx_tanh, grad_h)                         # Gradient à travers tanh\n",
    "    _, grad_w1, grad_b1 = Linear.backward(ctx_linear1, grad_h_pre)       # Gradients couche cachée\n",
    "\n",
    "    # Mise à jour des poids et biais\n",
    "    w1 -= EPS * grad_w1\n",
    "    b1 -= EPS * grad_b1\n",
    "    w2 -= EPS * grad_w2\n",
    "    b2 -= EPS * grad_b2\n",
    "\n",
    "# Test du modèle\n",
    "ctx_linear1_test = Context()\n",
    "ctx_tanh_test = Context()\n",
    "ctx_linear2_test = Context()\n",
    "\n",
    "h_pre_test = Linear.forward(ctx_linear1_test, x_test, w1, b1)\n",
    "h_test = Tanh.forward(ctx_tanh_test, h_pre_test)\n",
    "yhat_test = Linear.forward(ctx_linear2_test, h_test, w2, b2)\n",
    "loss_test = MSE.forward(Context(), yhat_test, y_test)\n",
    "print(f\"Test loss: {loss_test.item()}\")\n",
    "cost_final.append([\"tanh\", loss_test.item()])\n",
    "\n",
    "# Affichage de l'évolution de la perte\n",
    "cost_history = np.array(cost_history)\n",
    "plt.plot(cost_history[:, 0], cost_history[:, 1])\n",
    "plt.xlabel(\"Iterations\")\n",
    "plt.ylabel(\"Loss\")\n",
    "plt.title(\"Évolution de la perte pendant l'entraînement\")\n",
    "plt.show()"
   ],
   "outputs": [
    {
     "name": "stdout",
     "output_type": "stream",
     "text": [
      "Nombre d'exemples :  20640 Dimension :  8\n",
      "Itérations 0: loss 5.372561454772949\n",
      "Itérations 10000: loss 1.309428334236145\n",
      "Itérations 20000: loss 0.9015849232673645\n",
      "Itérations 30000: loss 0.6454287171363831\n",
      "Itérations 40000: loss 0.5975487232208252\n",
      "Itérations 50000: loss 0.5696563720703125\n",
      "Itérations 60000: loss 0.5467096567153931\n",
      "Itérations 70000: loss 0.5285033583641052\n",
      "Test loss: 0.4776679277420044\n"
     ]
    },
    {
     "data": {
      "text/plain": [
       "<Figure size 640x480 with 1 Axes>"
      ],
      "image/png": "[encoded data removed]"
     },
     "metadata": {},
     "output_type": "display_data"
    }
   ],
   "execution_count": 12
  },
  {
   "cell_type": "code",
   "metadata": {
    "ExecuteTime": {
     "end_time": "2024-11-18T09:45:25.170458Z",
     "start_time": "2024-11-18T09:44:09.104598Z"
    }
   },
   "source": [
    "# La meme chose avec relu\n",
    "# Chargement des données California_Housing et transformation en tenseurs.\n",
    "from sklearn.datasets import fetch_california_housing\n",
    "housing = fetch_california_housing()  # Chargement des données\n",
    "x = torch.tensor(housing['data'], dtype=torch.float)\n",
    "y = torch.tensor(housing['target'], dtype=torch.float).view(-1, 1)\n",
    "\n",
    "# Normalisation des données\n",
    "x = (x - x.mean(dim=0)) / x.std(dim=0)\n",
    "\n",
    "print(\"Nombre d'exemples : \", x.size(0), \"Dimension : \", x.size(1))\n",
    "\n",
    "# Division des données en ensemble d'entraînement et de test\n",
    "x_train = x[:int(0.8 * len(x))]\n",
    "y_train = y[:int(0.8 * len(y))]\n",
    "x_test = x[int(0.8 * len(x)):]\n",
    "y_test = y[int(0.8 * len(y)):]\n",
    "\n",
    "# Initialisation aléatoire des poids et biais avec de petites valeurs\n",
    "input_dim = x.size(1)  # 8\n",
    "hidden_dim = 10\n",
    "output_dim = 1\n",
    "\n",
    "# Poids et biais pour la couche cachée\n",
    "w1 = torch.randn(input_dim, hidden_dim) * 0.01\n",
    "b1 = torch.zeros(1, hidden_dim)\n",
    "\n",
    "# Poids et biais pour la couche de sortie\n",
    "w2 = torch.randn(hidden_dim, output_dim) * 0.01\n",
    "b2 = torch.zeros(1, output_dim)\n",
    "\n",
    "EPOCHS = 80000\n",
    "EPS = 1e-4 \n",
    "\n",
    "cost_history = []\n",
    "\n",
    "for n_iter in range(EPOCHS):\n",
    "    # Création des contextes\n",
    "    ctx_linear1 = Context()\n",
    "    ctx_relu = Context()\n",
    "    ctx_linear2 = Context()\n",
    "    ctx_mse = Context()\n",
    "\n",
    "    # Forward pass\n",
    "    h_pre = Linear.forward(ctx_linear1, x_train, w1, b1)    # Couche cachée linéaire\n",
    "    h = ReLU.forward(ctx_relu, h_pre)                       # Activation ReLU\n",
    "    yhat = Linear.forward(ctx_linear2, h, w2, b2)           # Couche de sortie linéaire\n",
    "    loss = MSE.forward(ctx_mse, yhat, y_train)              # Calcul de la perte MSE\n",
    "\n",
    "    cost_history.append([n_iter, loss.item()])\n",
    "    if n_iter % 10000 == 0:\n",
    "        print(f\"Itérations {n_iter}: loss {loss.item()}\")\n",
    "\n",
    "    # Backward pass\n",
    "    grad_output = torch.tensor(1.0)\n",
    "    grad_yhat, _ = MSE.backward(ctx_mse, grad_output)                    # Gradient par rapport à yhat\n",
    "    grad_h, grad_w2, grad_b2 = Linear.backward(ctx_linear2, grad_yhat)   # Gradients couche de sortie\n",
    "    grad_h_pre = ReLU.backward(ctx_relu, grad_h)                         # Gradient à travers ReLU\n",
    "    _, grad_w1, grad_b1 = Linear.backward(ctx_linear1, grad_h_pre)       # Gradients couche cachée\n",
    "\n",
    "    # Mise à jour des poids et biais\n",
    "    w1 -= EPS * grad_w1\n",
    "    b1 -= EPS * grad_b1\n",
    "    w2 -= EPS * grad_w2\n",
    "    b2 -= EPS * grad_b2\n",
    "\n",
    "# Test du modèle\n",
    "ctx_linear1_test = Context()\n",
    "ctx_relu_test = Context()\n",
    "ctx_linear2_test = Context()\n",
    "\n",
    "h_pre_test = Linear.forward(ctx_linear1_test, x_test, w1, b1)\n",
    "h_test = ReLU.forward(ctx_relu_test, h_pre_test)\n",
    "yhat_test = Linear.forward(ctx_linear2_test, h_test, w2, b2)\n",
    "loss_test = MSE.forward(Context(), yhat_test, y_test)\n",
    "print(f\"Test loss: {loss_test.item()}\")\n",
    "cost_final.append([\"relu\", loss_test.item()])\n",
    "\n",
    "# Affichage de l'évolution de la perte\n",
    "cost_history = np.array(cost_history)\n",
    "plt.plot(cost_history[:, 0], cost_history[:, 1])\n",
    "plt.xlabel(\"Iterations\")\n",
    "plt.ylabel(\"Loss\")\n",
    "plt.title(\"Évolution de la perte pendant l'entraînement avec ReLU\")\n",
    "plt.show()"
   ],
   "outputs": [
    {
     "name": "stdout",
     "output_type": "stream",
     "text": [
      "Nombre d'exemples :  20640 Dimension :  8\n",
      "Itérations 0: loss 5.372941017150879\n",
      "Itérations 10000: loss 1.3515347242355347\n",
      "Itérations 20000: loss 1.1534090042114258\n",
      "Itérations 30000: loss 0.8133518099784851\n",
      "Itérations 40000: loss 0.6777157783508301\n",
      "Itérations 50000: loss 0.6390395164489746\n",
      "Itérations 60000: loss 0.6133211255073547\n",
      "Itérations 70000: loss 0.5898319482803345\n",
      "Test loss: 0.567523717880249\n"
     ]
    },
    {
     "data": {
      "text/plain": [
       "<Figure size 640x480 with 1 Axes>"
      ],
      "image/png": "[encoded data removed]"
     },
     "metadata": {},
     "output_type": "display_data"
    }
   ],
   "execution_count": 13
  },
  {
   "cell_type": "code",
   "metadata": {
    "ExecuteTime": {
     "end_time": "2024-11-18T09:45:25.303859Z",
     "start_time": "2024-11-18T09:45:25.202912Z"
    }
   },
   "source": [
    "# Extraire les noms des activations et les pertes finales en convertissant en float\n",
    "activation_names = [item[0] for item in cost_final]\n",
    "loss_values = [float(item[1]) for item in cost_final]\n",
    "\n",
    "# Créer l'histogramme\n",
    "plt.figure(figsize=(8, 6))\n",
    "plt.bar(activation_names, loss_values, color='skyblue')\n",
    "\n",
    "# Ajouter les étiquettes et le titre\n",
    "plt.xlabel('Fonctions d\\'activation')\n",
    "plt.ylabel('Pertes finales sur le test')\n",
    "plt.title('Comparaison des pertes des différentes fonctions d\\'activation (80 000 epoch)')\n",
    "\n",
    "# Afficher les valeurs au-dessus des barres\n",
    "for i, v in enumerate(loss_values):\n",
    "    plt.text(i, v + 0.01, f\"{v:.4f}\", ha='center', fontweight='bold')\n",
    "\n",
    "# Afficher le graphique\n",
    "plt.show()"
   ],
   "outputs": [
    {
     "data": {
      "text/plain": [
       "<Figure size 800x600 with 1 Axes>"
      ],
      "image/png": "[encoded data removed]"
     },
     "metadata": {},
     "output_type": "display_data"
    }
   ],
   "execution_count": 14
  }
 ],
 "metadata": {
  "accelerator": "GPU",
  "colab": {
   "provenance": []
  },
  "kernelspec": {
   "display_name": "Python 3 (ipykernel)",
   "language": "python",
   "name": "python3"
  },
  "language_info": {
   "codemirror_mode": {
    "name": "ipython",
    "version": 3
   },
   "file_extension": ".py",
   "mimetype": "text/x-python",
   "name": "python",
   "nbconvert_exporter": "python",
   "pygments_lexer": "ipython3",
   "version": "3.12.7"
  }
 },
 "nbformat": 4,
 "nbformat_minor": 4
}
