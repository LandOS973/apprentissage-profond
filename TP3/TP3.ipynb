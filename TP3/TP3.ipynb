{
 "cells": [
  {
   "cell_type": "markdown",
   "metadata": {
    "id": "_TE2ItlsI956"
   },
   "source": [
    "# Deep Learning  \n",
    "\n",
    "\n",
    "## TP3 : Méthodologie, Expérimentations et Régularisation \n",
    "\n",
    "Sylvain Lamprier (sylvain.lamprier@univ-angers.fr)\n",
    "\n",
    "Supports adaptés de Nicolas Baskiotis (nicolas.baskiotis@sorbonne-univeriste.fr) et Benjamin Piwowarski (benjamin.piwowarski@sorbonne-universite.fr) -- MLIA/ISIR, Sorbonne Université"
   ]
  },
  {
   "cell_type": "code",
   "metadata": {
    "ExecuteTime": {
     "end_time": "2025-01-25T12:07:18.026779Z",
     "start_time": "2025-01-25T12:07:17.987956Z"
    }
   },
   "source": [
    "import torch\n",
    "from networkx import config\n",
    "from torch.onnx.symbolic_opset9 import batch_norm\n",
    "\n",
    "print(\"La version de torch est : \",torch.__version__)\n",
    "print(\"Le calcul GPU est disponible ? \", torch.cuda.is_available())\n",
    "\n",
    "import numpy as np\n",
    "import sklearn\n",
    "\n",
    "## Chargement des données California_Housing et transformation en tensor.\n",
    "from sklearn.datasets import fetch_california_housing\n",
    "housing = fetch_california_housing() ## chargement des données\n",
    "data_x = torch.tensor(housing['data'],dtype=torch.float)\n",
    "data_y = torch.tensor(housing['target'],dtype=torch.float).view(-1)\n",
    "Xdim = data_x.size(1)\n",
    "\n",
    "\n"
   ],
   "outputs": [
    {
     "name": "stdout",
     "output_type": "stream",
     "text": [
      "La version de torch est :  2.5.1+cu124\n",
      "Le calcul GPU est disponible ?  False\n"
     ]
    }
   ],
   "execution_count": 20
  },
  {
   "cell_type": "markdown",
   "metadata": {
    "id": "zGIDLqItECDu"
   },
   "source": [
    "# Méthodologie expérimentale et boîte à outils\n",
    "Pytorch dispose d'un ensemble d'outils qui permettent de simplifier les démarches expérimentales. Nous allons voir en particulier : \n",
    "* le DataLoader qui permet de gérer le chargement de données, le partitionement et la constitution d'ensembles de test et d'apprentissage; \n",
    "* le checkpointing qui permet de sauvegarder/charger les modèles en cours d'entraînement.\n",
    "* le TensorBoard (qui vient de tensorflow) qui permet de suivre l'évolution en apprentissage de vos modèles.\n"
   ]
  },
  {
   "cell_type": "markdown",
   "metadata": {
    "id": "zJ4MoJP4k4i0"
   },
   "source": [
    "\n",
    "## DataLoader\n",
    "Le <a href=https://pytorch.org/docs/stable/data.html>**DataLoader**</a> et la classe associée <a href=https://pytorch.org/docs/stable/data.html#torch.utils.data.Dataset> **Dataset**</a>  permettent en particulier de :\n",
    "* charger des données\n",
    "* pré-processer les données\n",
    "* de gérer les mini-batchs (sous-ensembles sur lequel on effectue une descente de gradient).\n",
    "\n",
    "La classe **Dataset** est une classe abstraite qui nécessite l'implémentation que d'une seule méthode, ```__getitem__(self,index)``` : elle renvoie le i-ème objet du jeu de données (généralement un couple *(exemple,label)*. \n",
    "\n",
    "La classe **TensorDataset** est l'instanciation la plus courante d'un **Dataset**, elle permet de créer un objet **Dataset** à partir d'une liste de tenseurs qui renvoie pour un index $i$ donné le tuple contenant les $i$-èmes ligne de chaque tenseur.\n",
    "\n",
    "La classe **DataLoader** permet essentiellement de randomiser et de constituer des mini-batchs de façon simple à partir d'une instance de **Dataset**. Chaque mini-batch est constitué d'exemples tirés aléatoirement dans le **Dataset** passé en paramètre et mis bout à bout dans des tenseurs. La méthode ```collate_fn(*args)``` est utilisée pour cela (nous verrons une customization de cette fonction dans une séance ultérieure). C'est ce générateur qui est généralement parcouru lors de l'apprentissage à chaque itération d'optimisation.\n",
    "\n",
    "Voici un exemple de code pour utiliser le DataLoader : \n"
   ]
  },
  {
   "cell_type": "code",
   "metadata": {
    "id": "AZaWAFO8k8ze",
    "ExecuteTime": {
     "end_time": "2025-01-25T11:46:35.756285Z",
     "start_time": "2025-01-25T11:46:35.747328Z"
    }
   },
   "source": [
    "from torch.utils.data import DataLoader,TensorDataset, Dataset\n",
    "\n",
    "## Création d'un dataset à partir des deux tenseurs d'exemples et de labels\n",
    "train_data = TensorDataset(data_x,data_y)\n",
    "## On peut indexer et connaitre la longueur d'un dataset\n",
    "\n",
    "## Création d'un DataLoader\n",
    "## tailles de mini-batch de 16, shuffle=True permet de mélanger les exemples\n",
    "# loader est un itérateur sur les mini-batchs des données\n",
    "loader = DataLoader(train_data, batch_size=16,shuffle=True ) \n",
    "\n",
    "#Premier batch (aléatoire) du dataloader :\n",
    "\n",
    "## Exemple d'un Dataset (sans utilité dans le cas présent, TensorDataset permet de faire la même chose)\n",
    "class MyDataSet(Dataset):\n",
    "  def __init__(self, x,y):\n",
    "    self.x = x\n",
    "    self.y = y\n",
    "  def __getitem__(self,i):\n",
    "    return self.x[i],self.y[i]\n",
    "  def __len__(self):\n",
    "    return len(self.x)"
   ],
   "outputs": [],
   "execution_count": 9
  },
  {
   "cell_type": "code",
   "metadata": {
    "ExecuteTime": {
     "end_time": "2025-01-25T11:47:56.206067Z",
     "start_time": "2025-01-25T11:46:35.809346Z"
    }
   },
   "source": [
    "EPOCHS = 100\n",
    "EPS=1e-4\n",
    "netSeq = torch.nn.Sequential(torch.nn.Linear(Xdim,5),torch.nn.Tanh(),torch.nn.Linear(5,1))\n",
    "optim = torch.optim.Adam(params=netSeq.parameters(),lr=EPS)\n",
    "mseloss = torch.nn.MSELoss()\n",
    "# La boucle d'apprentissage :\n",
    "for i in range(EPOCHS):\n",
    "    cumloss = 0\n",
    "    # On parcourt tous les exemples par batch de 16 (paramètre batch_size de DataLoader)\n",
    "    for bx,by in loader:\n",
    "        loss = mseloss(netSeq(bx).view(-1),by)\n",
    "        optim.zero_grad()\n",
    "        loss.backward()\n",
    "        optim.step()\n",
    "        cumloss += loss.item()\n"
   ],
   "outputs": [],
   "execution_count": 10
  },
  {
   "cell_type": "markdown",
   "metadata": {
    "id": "T9x2LC_6lCQm"
   },
   "source": [
    "## Checkpointing\n",
    "Les modèles Deep sont généralement long à apprendre. Afin de ne pas perdre des résultats en cours de calcul, il est fortement recommander de faire du **checkpointing**, c'est-à-dire d'enregistrer des points d'étapes du modèle en cours d'apprentissage pour pouvoir reprendre à n'importe quel moment l'apprentissage du modèle en cas de problème.  Il s'agit en pratique de sauvegarder l'état du modèle et de l'optimisateur (et de tout autre objet qui peut servir lors de l'apprentissage) toutes les n itérations. Toutes les variables d'intérêt sont en général disponibles par la méthode **state_dict()** des modèles et de l'optimiseur. \n",
    "\n",
    "En pratique, vous pouvez utilisé un code dérivé de celui ci-dessous.\n",
    "\n",
    "\n"
   ]
  },
  {
   "cell_type": "code",
   "metadata": {
    "id": "URQTq8hrPJO0",
    "ExecuteTime": {
     "end_time": "2025-01-25T11:47:56.230527Z",
     "start_time": "2025-01-25T11:47:56.223415Z"
    }
   },
   "source": [
    "import os\n",
    "def save_state(epoch,model,optim,fichier):\n",
    "      \"\"\" sauvegarde du modèle et de l'état de l'optimiseur dans fichier \"\"\"\n",
    "      state = {'epoch' : epoch, 'model_state': model.state_dict(), 'optim_state': optim.state_dict()}\n",
    "      torch.save(state,fichier)\n",
    " \n",
    "def load_state(fichier,model,optim):\n",
    "      \"\"\" Si le fichier existe, on charge le modèle et l'optimiseur \"\"\"\n",
    "      epoch = 0\n",
    "      if os.path.isfile(fichier):\n",
    "          state = torch.load(fichier)\n",
    "          model.load_state_dict(state['model_state'])\n",
    "          optim.load_state_dict(state['optim_state'])\n",
    "          epoch = state['epoch']\n",
    "      return epoch\n",
    "\n",
    "fichier = \"/tmp/netSeq.pth\" \n",
    "save_state(EPOCHS,netSeq,optim,fichier)    \n",
    "    "
   ],
   "outputs": [],
   "execution_count": 11
  },
  {
   "cell_type": "code",
   "metadata": {
    "ExecuteTime": {
     "end_time": "2025-01-25T11:49:14.573086Z",
     "start_time": "2025-01-25T11:47:56.275552Z"
    }
   },
   "source": [
    "# On crée un autre réseau similaire à celui sauvegardé et on charge les poids \n",
    "# on peut observer qu'on repart du même point que le réseau précédent\n",
    "netSeq = torch.nn.Sequential(torch.nn.Linear(Xdim,5),torch.nn.Tanh(),torch.nn.Linear(5,1))\n",
    "optim = torch.optim.Adam(params=netSeq.parameters(),lr=EPS)\n",
    "\n",
    "start_epoch = load_state(fichier,netSeq,optim)\n",
    "for epoch in range(start_epoch,start_epoch+EPOCHS):\n",
    "    cumloss = 0\n",
    "    for bx,by in loader:\n",
    "        loss = mseloss(netSeq(bx).view(-1),by)\n",
    "        optim.zero_grad()\n",
    "        loss.backward()\n",
    "        optim.step()\n",
    "        cumloss += loss.item()\n",
    "    if epoch % 10 ==0: \n",
    "        save_state(epoch,netSeq,optim,fichier)"
   ],
   "outputs": [
    {
     "name": "stderr",
     "output_type": "stream",
     "text": [
      "/tmp/ipykernel_17347/475055523.py:11: FutureWarning: You are using `torch.load` with `weights_only=False` (the current default value), which uses the default pickle module implicitly. It is possible to construct malicious pickle data which will execute arbitrary code during unpickling (See https://github.com/pytorch/pytorch/blob/main/SECURITY.md#untrusted-models for more details). In a future release, the default value for `weights_only` will be flipped to `True`. This limits the functions that could be executed during unpickling. Arbitrary objects will no longer be allowed to be loaded via this mode unless they are explicitly allowlisted by the user via `torch.serialization.add_safe_globals`. We recommend you start setting `weights_only=True` for any use case where you don't have full control of the loaded file. Please open an issue on GitHub for any issues related to this experimental feature.\n",
      "  state = torch.load(fichier)\n"
     ]
    }
   ],
   "execution_count": 12
  },
  {
   "cell_type": "markdown",
   "metadata": {
    "id": "IstQCvKblSvT"
   },
   "source": [
    "\n",
    "## GPU \n",
    "Afin d'utiliser un GPU lors des calculs, il est nécessaire de transférer les données et le modèle sur le GPU par l'intermédiaire de la fonction **to(device)** des tenseurs et des modules.  Il est impossible de faire une opération lorsqu'une partie des tenseurs sont sur GPU et l'autre sur CPU. Il faut que tous les tenseurs et paramètres soient sur le même device ! On doit donc s'assurer que le modèle, les exemples et les labels sont sur GPU pour faire les opérations.\n",
    "\n",
    "Par ailleurs, on peut connaître le device sur lequel est chargé un tenseur par l'intermédiaire de ```.device``` (mais pas pour un modèle, il faut aller voir les paramètres dans ce cas).\n",
    "\n",
    "Une manière simple d'utiliser un GPU quand il existe et donc d'avoir un code agnostique est la suivante : \n"
   ]
  },
  {
   "cell_type": "code",
   "metadata": {
    "id": "Fs8s7EwwlWTn",
    "ExecuteTime": {
     "end_time": "2025-01-25T11:49:15.423247Z",
     "start_time": "2025-01-25T11:49:14.586426Z"
    }
   },
   "source": [
    "use_cuda = torch.cuda.is_available()\n",
    "device = torch.device(\"cuda\" if use_cuda else \"cpu\")\n",
    "\n",
    "loader = DataLoader(TensorDataset(data_x,data_y), batch_size=16,shuffle=True ) \n",
    "\n",
    "## On charge le modèle sur GPU\n",
    "## A faire avant la déclaration de l'optimiseur, sinon les paramètres optimisés ne seront pas les mêmes! \n",
    "\n",
    "netSeq = torch.nn.Sequential(torch.nn.Linear(Xdim,5),torch.nn.Tanh(),torch.nn.Linear(5,1))\n",
    "netSeq = netSeq.to(device)\n",
    "optim = torch.optim.Adam(params=netSeq.parameters(),lr=EPS)\n",
    "\n",
    "for i,(bx,by) in enumerate(loader):\n",
    "    ## On charge le batch sur GPU\n",
    "    bx, by = bx.to(device), by.to(device)\n",
    "    loss = mseloss(netSeq(bx).view(-1),by)\n",
    "    optim.zero_grad()\n",
    "    loss.backward()\n",
    "    optim.step()\n",
    "\n",
    "\n",
    "print(\"Device du mini-batch : \", bx.device)\n"
   ],
   "outputs": [
    {
     "name": "stdout",
     "output_type": "stream",
     "text": [
      "Device du mini-batch :  cpu\n"
     ]
    }
   ],
   "execution_count": 13
  },
  {
   "cell_type": "markdown",
   "metadata": {
    "id": "g5J1b55_lFR-"
   },
   "source": [
    "\n",
    "## TensorBoard\n",
    "\n",
    "Durant l'apprentissage de vos modèles, il est agréable de visualiser de quelle manière évolue le coût, la précision sur l'ensemble de validation ainsi que d'autres éléments. TensorFlow dispose d'un outil très apprécié, le TensorBoard, qui permet de gérer très facilement de tels affichages. On retrouve tensorboard dans **Pytorch** dans ```torch.utils.tensorboard``` qui permet de faire le pont de pytorch vers cet outil. \n",
    "\n",
    "Le principe est le suivant :\n",
    "* tensorboard fait tourner en fait un serveur web local qui va lire les fichiers de log dans un répertoire local. L'affichage se fait dans votre navigateur à partir d'un lien fourni lors du lancement de tensorboard.\n",
    "* Les éléments que vous souhaitez visualiser (scalaire, graphes, distributions, histogrammes) sont écrits dans le fichier de log à partir d'un objet **SummaryWriter** .\n",
    "* la méthode ```add_scalar(tag, valeur, global_step)``` permet de logger une valeur à un step donné, ```add_scalar(tag, tag_scalar_dic, global_step)``` un ensemble de valeurs par l'intermédiaire du dictionnaire ```tag_scalar_dic``` (un regroupement des scalaires est fait en fonction du tag passé, chaque sous-tag séparé par un **/**).\n",
    "\n",
    "Il existe d'autres méthodes ```add_XXX``` pour visualiser par exemple des images, des histogrammes (cf <a href=https://pytorch.org/docs/stable/tensorboard.html>la doc </a>).\n",
    "\n",
    "Le code suivant illustre une manière de l'utiliser. "
   ]
  },
  {
   "cell_type": "code",
   "metadata": {
    "id": "1kIhHDnElQd8",
    "ExecuteTime": {
     "end_time": "2025-01-25T12:00:11.829060Z",
     "start_time": "2025-01-25T11:57:28.872376Z"
    }
   },
   "source": [
    "# Pour observer les courbes produites, il faut lancer tensorboard \n",
    "# à la main à partir du shell :  tensorboard --logdir /tmp/logs/deep\n",
    "TB_PATH = \"/tmp/logs/deep\"\n",
    "from torch.utils.tensorboard import SummaryWriter\n",
    "\n",
    "class DeuxCouches(torch.nn.Module):\n",
    "  def __init__(self):\n",
    "    super(DeuxCouches,self).__init__()\n",
    "    self.un = torch.nn.Linear(Xdim,5)\n",
    "    self.act = torch.nn.Tanh()\n",
    "    self.deux = torch.nn.Linear(5,1)\n",
    "  def forward(self,x):\n",
    "    return self.deux(self.act(self.un(x)))\n",
    "\n",
    "EPS = 1e-5\n",
    "EPOCHS=100\n",
    "netSeq = torch.nn.Sequential(torch.nn.Linear(Xdim,5),torch.nn.Tanh(),torch.nn.Linear(5,1))\n",
    "netDeuxCouches = DeuxCouches()\n",
    "netSeq.name = \"Sequentiel\"\n",
    "netDeuxCouches.name = \"DeuxCouches\"\n",
    "## Obtention d'un SummaryWriter \n",
    "summary = SummaryWriter(f\"{TB_PATH}/test\")\n",
    "\n",
    "mseloss = torch.nn.MSELoss()\n",
    "for model in [netSeq, netDeuxCouches]:\n",
    "    optim = torch.optim.Adam(params=model.parameters(),lr=EPS) \n",
    "    for i in range(EPOCHS):\n",
    "        cumloss = 0\n",
    "        for boston_x, boston_y in loader:\n",
    "            loss = mseloss(model(boston_x),boston_y.view(-1,1))\n",
    "            optim.zero_grad()\n",
    "            loss.backward()\n",
    "            optim.step()  \n",
    "            cumloss+= loss.item()\n",
    "        summary.add_scalar(f\"loss/{model.name}\",cumloss/len(loader),i)"
   ],
   "outputs": [],
   "execution_count": 15
  },
  {
   "cell_type": "markdown",
   "metadata": {},
   "source": [
    "# Visualisation des courbes dans tensorboard\n",
    "![Capture du tensorboard](./img/tensorBoard1.png)"
   ]
  },
  {
   "cell_type": "markdown",
   "metadata": {
    "id": "zaW5Av4elaBN"
   },
   "source": [
    "## Dernières remarques et exemple typique de code\n",
    "* Le graphe de calcul est instancié de manière dynamique sous pytorch, et cela consomme des ressources. Lorsqu'il n'y a pas de rétropropagation qui intervient - lors de l'évaluation d'un modèle par exemple -, il faut à tout prix éviter de le calculer. L'environnement **torch.no_grad()** permet de désactiver temporairement l'instanciation du graphe. **Toutes les procédures d'évaluation doivent se faire dans cet environnement afin d'économiser du temps !**\n",
    "* Pour certains modules, le comportement est différent entre l'évaluation et l'apprentissage (pour le dropout ou la batchnormalisation par exemple, ou pour les RNNs). Afin d'indiquer à pytorch dans quelle phase on se situe, deux méthodes sont disponibles dans la classe module,  **.train()** et **.eval()** qui permettent de basculer entre les deux environnements.\n",
    "\n",
    "Les deux fonctionalités sont très différentes : **no_grad** agit au niveau du graphe de calcul et désactive sa construction (comme si les variables avaient leur propriété **requires_grad** à False), alors que **eval/train** agissent au niveau du module et influence le comportement du module.\n",
    "\n",
    "Vous trouverez ci-dessous un exemple typique de code pytorch qui reprend l'ensemble des éléments de ce tutoriel. Vous êtes prêt maintenant à expérimenter la puissance de ce framework."
   ]
  },
  {
   "cell_type": "code",
   "metadata": {
    "ExecuteTime": {
     "end_time": "2025-01-25T12:00:11.841407Z",
     "start_time": "2025-01-25T12:00:11.836622Z"
    }
   },
   "source": [
    "import torch\n",
    "from torch.utils.data import TensorDataset, DataLoader\n",
    "from torch.utils.tensorboard import SummaryWriter\n",
    "import time\n",
    "import os\n",
    "TB_PATH = \"/tmp/logs/module1\"\n",
    "MODEL_PATH = \"/tmp/models\"\n",
    "os.makedirs(MODEL_PATH,exist_ok=True)\n",
    "\n",
    "use_cuda = torch.cuda.is_available()\n",
    "device = torch.device(\"cuda\" if use_cuda else \"cpu\")\n"
   ],
   "outputs": [],
   "execution_count": 16
  },
  {
   "cell_type": "code",
   "metadata": {
    "id": "b3TRg2p5ldCJ",
    "ExecuteTime": {
     "end_time": "2025-01-25T12:00:11.933516Z",
     "start_time": "2025-01-25T12:00:11.922945Z"
    }
   },
   "source": [
    "def save_state(fichier,epoch,model,optim):\n",
    "    state = {'epoch' : epoch, 'model_state': model.state_dict(), 'optim_state': optim.state_dict()}\n",
    "    torch.save(state,fichier)\n",
    "\n",
    "def load_state(fichier,model,optim):\n",
    "    epoch = 0\n",
    "    if os.path.isfile(fichier):\n",
    "        state = torch.load(fichier)\n",
    "        model.load_state_dict(state['model_state'])\n",
    "        optim.load_state_dict(state['optim_state'])\n",
    "        epoch = state['epoch']\n",
    "    return epoch\n",
    "\n",
    "\n",
    "def train(model, loss, epochs, train_loader, test_loader,lr=1e-3):\n",
    "    # On créé un writer avec la date du modèle pour s'y retrouver\n",
    "    check_file = f\"{MODEL_PATH}/{model.name}.pth\"\n",
    "    summary = SummaryWriter(f\"{TB_PATH}/{model.name}\")\n",
    "    optim = torch.optim.Adam(params=model.parameters(),lr=lr)\n",
    "    start_epoch = load_state(check_file,model,optim)\n",
    "    for epoch in range(start_epoch,epochs):\n",
    "        # Apprentissage\n",
    "        # .train() inutile tant qu'on utilise pas de normalisation ou de récurrent\n",
    "        model.train()\n",
    "        cumloss = 0\n",
    "        for xbatch, ybatch in train_loader:\n",
    "            xbatch, ybatch = xbatch.to(device), ybatch.to(device)\n",
    "            outputs = model(xbatch)\n",
    "            l = loss(outputs.view(-1),ybatch)\n",
    "            optim.zero_grad()\n",
    "            l.backward()\n",
    "            optim.step()\n",
    "            cumloss += l.item()\n",
    "        summary.add_scalar(\"loss/train\",  cumloss/len(train_loader),epoch)\n",
    "        if epoch % 10 == 0: \n",
    "            save_state(check_file,epoch,model,optim)\n",
    "            # Validation\n",
    "            # .eval() inutile tant qu'on utilise pas de normalisation ou de récurrent\n",
    "            net.eval()\n",
    "            with torch.no_grad():\n",
    "                cumloss = 0\n",
    "                for xbatch, ybatch in test_loader:\n",
    "                    xbatch, ybatch = xbatch.to(device), ybatch.to(device)\n",
    "                    outputs = model(xbatch)\n",
    "                    cumloss += loss(outputs.view(-1),ybatch).item()\n",
    "            summary.add_scalar(\"loss/validation\", cumloss/len(test_loader) ,epoch)\n",
    "        "
   ],
   "outputs": [],
   "execution_count": 17
  },
  {
   "cell_type": "code",
   "metadata": {
    "ExecuteTime": {
     "end_time": "2025-01-25T12:01:19.756689Z",
     "start_time": "2025-01-25T12:00:12.011388Z"
    }
   },
   "source": [
    "from datetime import datetime\n",
    "# Datasets\n",
    "from sklearn.datasets import fetch_california_housing\n",
    "housing = fetch_california_housing() ## chargement des données\n",
    "all_data = torch.tensor(housing['data'],dtype=torch.float)\n",
    "all_labels = torch.tensor(housing['target'],dtype=torch.float).view(-1)\n",
    "\n",
    "# Il est toujours bon de normaliser\n",
    "all_data = (all_data-all_data.mean(0))/all_data.std(0)\n",
    "all_labels = (all_labels-all_labels.mean())/all_labels.std()\n",
    "\n",
    "train_tensor_data = TensorDataset(all_data, all_labels)\n",
    "\n",
    "# Split en 80% apprentissage et 20% test\n",
    "train_size = int(0.8 * len(train_tensor_data))\n",
    "validate_size = len(train_tensor_data) - train_size\n",
    "train_data, valid_data = torch.utils.data.random_split(train_tensor_data, [train_size, validate_size])\n",
    "\n",
    "\n",
    "EPOCHS = 100\n",
    "BATCH_SIZE = 16\n",
    "\n",
    "train_loader = DataLoader(train_data,batch_size=BATCH_SIZE,shuffle=True)\n",
    "valid_loader = DataLoader(valid_data, batch_size=BATCH_SIZE)\n",
    "\n",
    "net = torch.nn.Sequential(torch.nn.Linear(all_data.size(1),5),torch.nn.Tanh(),torch.nn.Linear(5,1))\n",
    "net.name = \"mon_premier_reseau_\" + datetime.now().strftime(\"%Y%m%d_%H%M%S\")\n",
    "\n",
    "net = net.to(device)\n",
    "train(net,torch.nn.MSELoss(),EPOCHS,train_loader,valid_loader,lr=1e-5)\n"
   ],
   "outputs": [],
   "execution_count": 18
  },
  {
   "cell_type": "markdown",
   "metadata": {},
   "source": [
    "# Expérimentations\n",
    "## Jeu de données MNIST\n",
    "Ce jeu de données est l'équivalent du *Hello world* en programmation. Chaque donnée est un chiffre manuscrit (de 0 à 9). Les lignes suivantes vous permettent de charger le jeu de données.\n"
   ]
  },
  {
   "cell_type": "code",
   "metadata": {
    "ExecuteTime": {
     "end_time": "2025-01-25T12:01:19.867908Z",
     "start_time": "2025-01-25T12:01:19.817282Z"
    }
   },
   "source": [
    "import numpy as np\n",
    "# deux couches caché de 100 neurones pour avoir le suraprentissage\n",
    "# l2 marche pas de ouf par contre dropout efficace\n",
    "# Modules (torch, nn, F et optim)\n",
    "import torch\n",
    "import torch.nn as nn\n",
    "import torch.nn.functional as F\n",
    "import torchvision\n",
    "import torchvision.transforms as transforms\n",
    "import torch.utils.data\n",
    "import torchvision.datasets as dset\n",
    "import torchvision.utils as vutils\n",
    "import torch.backends.cudnn as cudnn\n",
    "from torch.nn.functional import one_hot\n",
    "device = torch.device(\"cuda:0\" if torch.cuda.is_available() else \"cpu\")\n",
    "\n",
    "\n",
    "# Progrès\n",
    "from tqdm import tqdm\n",
    "from tqdm.autonotebook import tqdm\n",
    "#from tqdm import tqdm_notebook as tqdm\n",
    "\n",
    "#matpotlib \n",
    "import matplotlib\n",
    "import matplotlib.pyplot as plt\n",
    "\n",
    "\n",
    "import time\n",
    "import os\n",
    "from tensorboard import notebook\n",
    "\n",
    "\n",
    "TB_PATH = \"/tmp/logs/deep_tp3\"\n",
    "from torch.utils.tensorboard import SummaryWriter\n",
    "\n",
    "\n",
    "mean=[0.5]\n",
    "std=[0.5]\n",
    "batchsize=128\n",
    "\n",
    "#Transformations à appliquer sur le dataset (transformation des images en tenseurs et normalization pour obtenir des valeurs entre -1 et 1)\n",
    "transform = transforms.Compose(\n",
    "    [transforms.ToTensor(),\n",
    "     transforms.Normalize(mean, std)])\n",
    "\n",
    "# Téléchargement des données (via le dataset specifique MNIST de pytorch)\n",
    "trainset = torchvision.datasets.MNIST(root='./data', train=True, download=True, transform=transform)\n",
    "print(len(trainset))\n",
    "trainloader = torch.utils.data.DataLoader(trainset, batch_size=batchsize, pin_memory=True, shuffle=True)\n",
    "\n",
    "testset = torchvision.datasets.MNIST(root='./data', train=False, download=True, transform=transform)\n",
    "testloader = torch.utils.data.DataLoader(testset, batch_size=batchsize, pin_memory=True, shuffle=False)\n",
    "\n",
    "\n"
   ],
   "outputs": [
    {
     "ename": "ModuleNotFoundError",
     "evalue": "No module named 'torchvision'",
     "output_type": "error",
     "traceback": [
      "\u001B[0;31m---------------------------------------------------------------------------\u001B[0m",
      "\u001B[0;31mModuleNotFoundError\u001B[0m                       Traceback (most recent call last)",
      "Cell \u001B[0;32mIn[19], line 8\u001B[0m\n\u001B[1;32m      6\u001B[0m \u001B[38;5;28;01mimport\u001B[39;00m\u001B[38;5;250m \u001B[39m\u001B[38;5;21;01mtorch\u001B[39;00m\u001B[38;5;21;01m.\u001B[39;00m\u001B[38;5;21;01mnn\u001B[39;00m\u001B[38;5;250m \u001B[39m\u001B[38;5;28;01mas\u001B[39;00m\u001B[38;5;250m \u001B[39m\u001B[38;5;21;01mnn\u001B[39;00m\n\u001B[1;32m      7\u001B[0m \u001B[38;5;28;01mimport\u001B[39;00m\u001B[38;5;250m \u001B[39m\u001B[38;5;21;01mtorch\u001B[39;00m\u001B[38;5;21;01m.\u001B[39;00m\u001B[38;5;21;01mnn\u001B[39;00m\u001B[38;5;21;01m.\u001B[39;00m\u001B[38;5;21;01mfunctional\u001B[39;00m\u001B[38;5;250m \u001B[39m\u001B[38;5;28;01mas\u001B[39;00m\u001B[38;5;250m \u001B[39m\u001B[38;5;21;01mF\u001B[39;00m\n\u001B[0;32m----> 8\u001B[0m \u001B[38;5;28;01mimport\u001B[39;00m\u001B[38;5;250m \u001B[39m\u001B[38;5;21;01mtorchvision\u001B[39;00m\n\u001B[1;32m      9\u001B[0m \u001B[38;5;28;01mimport\u001B[39;00m\u001B[38;5;250m \u001B[39m\u001B[38;5;21;01mtorchvision\u001B[39;00m\u001B[38;5;21;01m.\u001B[39;00m\u001B[38;5;21;01mtransforms\u001B[39;00m\u001B[38;5;250m \u001B[39m\u001B[38;5;28;01mas\u001B[39;00m\u001B[38;5;250m \u001B[39m\u001B[38;5;21;01mtransforms\u001B[39;00m\n\u001B[1;32m     10\u001B[0m \u001B[38;5;28;01mimport\u001B[39;00m\u001B[38;5;250m \u001B[39m\u001B[38;5;21;01mtorch\u001B[39;00m\u001B[38;5;21;01m.\u001B[39;00m\u001B[38;5;21;01mutils\u001B[39;00m\u001B[38;5;21;01m.\u001B[39;00m\u001B[38;5;21;01mdata\u001B[39;00m\n",
      "\u001B[0;31mModuleNotFoundError\u001B[0m: No module named 'torchvision'"
     ]
    }
   ],
   "execution_count": 19
  },
  {
   "cell_type": "markdown",
   "metadata": {},
   "source": [
    "## Visualisation d'une image\n"
   ]
  },
  {
   "cell_type": "code",
   "metadata": {},
   "source": [
    "def unnormalize(img):\n",
    "  if img.dim()==2 or ((img.dim()==3) and (img.size()[0]==1)):\n",
    "      return img*std[0]+mean[0]\n",
    "  return img * img.new(std).view(3, 1, 1) + img.new(mean).view(3, 1, 1)\n",
    "\n",
    "# Recuperation du premier batch\n",
    "imgs,labs=next(iter(trainloader))\n",
    "# dimension of images (flattened)\n",
    "HEIGHT,WIDTH = imgs.shape[2],imgs.shape[3] # taille de l'image\n",
    "\n",
    "INPUT_DIM = HEIGHT * WIDTH\n",
    "\n",
    "#Visualisation de la première image\n",
    "print(imgs.size())\n",
    "img = unnormalize(imgs[0]) # pour retrouver l'image d'origine (avant normalisation)\n",
    "fig=plt.figure(figsize=(8, 8))\n",
    "plt.imshow(img.squeeze(),cmap='Greys_r')"
   ],
   "outputs": [],
   "execution_count": null
  },
  {
   "cell_type": "code",
   "metadata": {},
   "source": [
    "\n",
    "from torch.utils.data import DataLoader,TensorDataset, Dataset\n",
    "\n",
    "## On utilise qu'une partie du training test pour mettre en évidence le sur-apprentissage\n",
    "TRAIN_RATIO = 0.01\n",
    "train_length = int(len(trainset)*TRAIN_RATIO)\n",
    "\n",
    "ds_train, ds_test =  torch.utils.data.random_split(trainset, (train_length, len(trainset)- train_length))\n",
    "\n",
    "#On utilise un DataLoader pour faciliter les manipulations, on fixe  la taille du mini batch à 300\n",
    "train_loader = DataLoader(ds_train,batch_size=300,shuffle=True)\n",
    "test_loader = DataLoader(ds_test,batch_size=300,shuffle=False)\n",
    "\n",
    "def accuracy(yhat,y):\n",
    "    # y encode les indexes, s'assurer de la bonne taille de tenseur\n",
    "    assert len(y.shape)==1 or y.size(1)==1\n",
    "    return (torch.argmax(yhat,1).view(y.size(0),-1)== y.view(-1,1)).double().mean()"
   ],
   "outputs": [],
   "execution_count": null
  },
  {
   "cell_type": "markdown",
   "metadata": {},
   "source": [
    "##  <span class=\"alert-success\"> Exercice : Classification multi-labels, nombre de couches, fonction de coût </span>\n",
    "\n",
    "L'objectif est de classer chaque image parmi les 10 chiffres qu'ils représentent. Le réseau aura donc 10 sorties, une par classe, chacune représentant la probabilité d'appartenance à chaque classe. Pour garantir une distribution de probabilité en sortie, il faut utiliser le module <a href=https://pytorch.org/docs/stable/generated/torch.nn.Softmax.html> **Softmax** </a> : $$\\texttt{Softmax}(\\mathbf{x})_i = \\frac{e^{x_i}}{\\sum_{j=1}^d x_j}$$ qui permet de normaliser le vecteur de sortie.\n",
    "\n",
    "* Faites quelques exemples de réseau à 1, 2, 3 couches et en faisant varier les nombre de neurones par couche. Utilisez un coût moindre carré dans un premier temps. Pour superviser ce coût, on doit construire le vecteur one-hot correspondant à la classe : un vecteur qui ne contient que des 0 sauf à l'index de la classe qui contient un 1 (utilisez ```torch.nn.functional.one_hot```).  Comparez les courbes de coût et d'erreurs en apprentissage et en test selon l'architecture.\n",
    "* Le coût privilégié en multi-classe est la *cross-entropy**. Ce coût représente la négative log-vraisemblance : $$NNL(y,\\mathbf{x}) = -x_{y} $$ en notant $y$ l'indice de la classe et $\\mathbf{x}$ le vecteur de log-probabilité inféré. On peut utiliser soit son implémentation par le module <a href=https://pytorch.org/docs/stable/generated/torch.nn.NLLLoss.html#torch.nn.NLLLoss>**NLLLoss**</a>, soit - plus pratique - le module <a href=https://pytorch.org/docs/stable/generated/torch.nn.CrossEntropyLoss.html>**CrossEntropyLoss** <a>  qui combine un *logSoftmax* et la cross entropie, ce qui évite d'avoir à ajouter un module de *Softmax* en sortie du réseau. Utilisez ce dernier coût et observez les changements.\n",
    "* Changez la fonction d'activation en une ReLU et observez l'effet."
   ]
  },
  {
   "cell_type": "code",
   "metadata": {},
   "source": [
    "import torch\n",
    "import torch.nn as nn\n",
    "import torch.nn.functional as F\n",
    "from torch.utils.tensorboard import SummaryWriter\n",
    "\n",
    "# Fonction d'accuracy\n",
    "def accuracy(yhat, y):\n",
    "    assert len(y.shape) == 1 or y.size(1) == 1\n",
    "    return (torch.argmax(yhat, dim=1) == y).double().mean()\n",
    "\n",
    "# Fonction pour convertir en one-hot\n",
    "def to_one_hot(y, num_classes):\n",
    "    return F.one_hot(y, num_classes=num_classes).float()\n",
    "\n",
    "def train_and_log(model, train_loader, test_loader, criterion, optimizer, epochs, writer, output_dim):\n",
    "    for epoch in range(epochs):\n",
    "        # Mode entraînement\n",
    "        model.train()\n",
    "        train_loss, train_acc = 0, 0\n",
    "\n",
    "        for x_batch, y_batch in train_loader:\n",
    "            x_batch, y_batch = x_batch.to(device), y_batch.to(device)\n",
    "            \n",
    "            # Aplatir les données si nécessaire\n",
    "            x_batch = x_batch.view(x_batch.size(0), -1)\n",
    "            \n",
    "            yhat = model(x_batch)\n",
    "\n",
    "            # Si on utilise MSELoss, convertir les cibles en one-hot\n",
    "            if isinstance(criterion, nn.MSELoss):\n",
    "                y_batch = to_one_hot(y_batch, num_classes=output_dim)\n",
    "            \n",
    "            loss = criterion(yhat, y_batch)\n",
    "            \n",
    "            optimizer.zero_grad()\n",
    "            loss.backward()\n",
    "            optimizer.step()\n",
    "\n",
    "            train_loss += loss.item()\n",
    "            train_acc += accuracy(yhat, y_batch if isinstance(criterion, nn.CrossEntropyLoss) else torch.argmax(y_batch, dim=1)).item()\n",
    "\n",
    "        train_loss /= len(train_loader)\n",
    "        train_acc /= len(train_loader)\n",
    "\n",
    "        # Mode évaluation - toutes les 50 époques\n",
    "        if (epoch + 1) % 50 == 0 or epoch == epochs - 1 or epoch == 0:\n",
    "            model.eval()  # Activer le mode évaluation (Dropout désactivé)\n",
    "            test_loss, test_acc = 0, 0\n",
    "            with torch.no_grad():\n",
    "                for x_batch, y_batch in test_loader:\n",
    "                    x_batch, y_batch = x_batch.to(device), y_batch.to(device)\n",
    "\n",
    "                    # Aplatir les données si nécessaire\n",
    "                    x_batch = x_batch.view(x_batch.size(0), -1)\n",
    "\n",
    "                    yhat = model(x_batch)\n",
    "\n",
    "                    # Si on utilise MSELoss, convertir les cibles en one-hot\n",
    "                    if isinstance(criterion, nn.MSELoss):\n",
    "                        y_batch = to_one_hot(y_batch, num_classes=output_dim)\n",
    "\n",
    "                    loss = criterion(yhat, y_batch)\n",
    "\n",
    "                    test_loss += loss.item()\n",
    "                    test_acc += accuracy(yhat, y_batch if isinstance(criterion, nn.CrossEntropyLoss) else torch.argmax(y_batch, dim=1)).item()\n",
    "\n",
    "            test_loss /= len(test_loader)\n",
    "            test_acc /= len(test_loader)\n",
    "            # Enregistrement dans TensorBoard\n",
    "            writer.add_scalars(\"Loss\", {\"Train\": train_loss, \"Test\": test_loss}, epoch)\n",
    "            writer.add_scalars(\"Accuracy\", {\"Train\": train_acc, \"Test\": test_acc}, epoch)\n",
    "\n",
    "\n",
    "# Classe LinearMultiClass avec ajout de Dropout\n",
    "class LinearMultiClass(nn.Module):\n",
    "    def __init__(self, inSize, outSize, layers=None, finalActivation=None, activation=nn.Tanh, dropout_prob=0):\n",
    "        super(LinearMultiClass, self).__init__()\n",
    "        \n",
    "        if layers is None:\n",
    "            layers = []\n",
    "\n",
    "        self.layers = nn.ModuleList()  # Utilisé pour accéder aux modules individuels\n",
    "        input_dim = inSize\n",
    "\n",
    "        # Ajouter les couches cachées\n",
    "        for hidden_dim in layers:\n",
    "            self.layers.append(nn.Linear(input_dim, hidden_dim))\n",
    "            self.layers.append(activation())\n",
    "            self.layers.append(nn.Dropout(p=dropout_prob))  # Ajouter Dropout après chaque activation\n",
    "            input_dim = hidden_dim\n",
    "\n",
    "        # Ajouter la couche de sortie\n",
    "        self.layers.append(nn.Linear(input_dim, outSize))\n",
    "\n",
    "        # Ajouter la fonction d'activation finale si elle est définie\n",
    "        if finalActivation is not None:\n",
    "            self.layers.append(finalActivation)\n",
    "\n",
    "        # Utilisation de nn.Sequential pour empiler les couches\n",
    "        self.model = nn.Sequential(*self.layers)\n",
    "        \n",
    "    def forward(self, x):\n",
    "        return self.model(x)\n",
    "\n",
    "\n",
    "# Comparaison des modèles\n",
    "def compare_models(train_loader, test_loader, input_dim, output_dim, epochs=2000):\n",
    "    # Configurations à comparer\n",
    "    configs = [\n",
    "        {\"activation\": nn.Tanh, \"criterion\": nn.MSELoss(), \"tag\": \"Tanh_MSE\"},\n",
    "        {\"activation\": nn.Tanh, \"criterion\": nn.CrossEntropyLoss(), \"tag\": \"Tanh_CrossEntropy\"},\n",
    "        {\"activation\": nn.ReLU, \"criterion\": nn.CrossEntropyLoss(), \"tag\": \"ReLU_CrossEntropy\"},\n",
    "        {\"activation\": nn.ReLU, \"criterion\": nn.MSELoss(), \"tag\": \"ReLU_MSE\"},\n",
    "    ]\n",
    "    \n",
    "    for config in configs:\n",
    "        # Utiliser Softmax comme finalActivation seulement si on utilise CrossEntropyLoss\n",
    "        final_activation = None if isinstance(config[\"criterion\"], nn.CrossEntropyLoss) else nn.Softmax(dim=1)\n",
    "\n",
    "        # Initialisation du modèle\n",
    "        model = LinearMultiClass(\n",
    "            inSize=input_dim,\n",
    "            outSize=output_dim,\n",
    "            layers=[100,100],\n",
    "            finalActivation=final_activation,\n",
    "            activation=config[\"activation\"]\n",
    "        )\n",
    "\n",
    "        model = model.to(device)\n",
    "        \n",
    "        # Initialisation de l'optimiseur et du critère\n",
    "        optimizer = torch.optim.Adam(model.parameters())\n",
    "        criterion = config[\"criterion\"]\n",
    "        \n",
    "        # TensorBoard Writer\n",
    "        writer = SummaryWriter(log_dir=f\"runs/{config['tag']}\")\n",
    "        \n",
    "        # Entraînement\n",
    "        train_and_log(model, train_loader, test_loader, criterion, optimizer, epochs, writer, output_dim)\n",
    "        \n",
    "        writer.close()\n",
    "\n",
    "# Paramètres du dataset et de l'entraînement\n",
    "input_dim = train_loader.dataset[0][0].numel()\n",
    "output_dim = 10  # Nombre de classes\n",
    "device = torch.device(\"cuda\" if torch.cuda.is_available() else \"cpu\")\n",
    "\n",
    "compare_models(train_loader, test_loader, input_dim, output_dim, epochs=2000)\n"
   ],
   "outputs": [],
   "execution_count": null
  },
  {
   "cell_type": "markdown",
   "metadata": {},
   "source": [
    "## Visualisation des résultats dans TensorBoard\n",
    "### Relu\n",
    "#### CrossEntropy\n",
    "![Accuracy](./img/accuracy_relu_cross.png)\n",
    "![Loss](./img/loss_relu_cross.png)\n",
    "\n",
    "![Accuracy](./img/accuracy_relu_mse.png)\n",
    "![Loss](./img/loss_relu_mse.png)\n",
    "\n",
    "### Tanh\n",
    "#### CrossEntropy\n",
    "![Accuracy](./img/acccuracy_than_cross.png)\n",
    "![Loss](./img/loss_than_cross.png)\n",
    "\n",
    "#### MSELoss\n",
    "![Accuracy](./img/accuracy_than_mse.png)\n",
    "![Loss](./img/loss_than_mse.png)\n"
   ]
  },
  {
   "cell_type": "markdown",
   "metadata": {},
   "source": [
    "## <span class=\"alert-danger\"> On observe du sur-apprentissage avec un ecart d'un 15aine de pourcent entre le train et le test pour l'accuracy et une loss qui remonte en test après un certain nombre d'époque pour les modèles CrossEntropy. </span>"
   ]
  },
  {
   "cell_type": "markdown",
   "metadata": {},
   "source": [
    "##  <span class=\"alert-success\"> Exercice : Régularisation des réseaux </span>\n",
    "\n",
    "### Pénalisation des couches\n",
    "Une première technique pour éviter le sur-apprentissage est de régulariser chaque couche par une pénalisation sur les poids, i.e. de favoriser des poids faibles. On parle de pénalisation L1 lorsque la pénalité est de la forme $\\|W\\|_1$ et L2 lorsque la norme L2 est utilisée : $\\|W\\|_2^2$. En pratique, cela consiste à rajouter à la fonction de coût globale du réseau un terme en $\\lambda Pen(W)$ pour les paramètres de chaque couche que l'on veut régulariser.\n",
    "\n",
    "Expérimentez avec une norme L2 dans $\\{0,10^{-5},10^{-4},10^{-3},10^{-2},\\}$, l'évolution de la pénalisation et du coût en fonction du nombre d'époques. Vous pouvez aussi observer les histogrammes de la distribution des poids des différentes couches en utilisant la fonction addWeightsHisto ci dessous.  Utilisez pour ces experiences un réseau à 3 couches chacune de taille 100 et un coût de CrossEntropy.\n"
   ]
  },
  {
   "cell_type": "code",
   "metadata": {},
   "source": [
    "# requiert que les modules soient enregistrés dans une liste model.layers\n",
    "def addWeightsHisto(writer,model,epoch):                \n",
    "    ix = 0\n",
    "    for module in model.layers:\n",
    "        if isinstance(module, nn.Linear):\n",
    "           writer.add_histogram(f'linear/{ix}/weight',module.weight, epoch)\n",
    "           ix += 1\n",
    "\n",
    "# Comparaison des modèles avec régularisation L2\n",
    "def compare_models_with_regularization(train_loader, test_loader, input_dim, output_dim, epochs=2000):\n",
    "    # Liste des valeurs de régularisation L2 à tester\n",
    "    lambdas = [0, 1e-5, 1e-4, 1e-3, 1e-2]\n",
    "    config = {\"activation\": nn.Tanh, \"criterion\": nn.CrossEntropyLoss(), \"tag\": \"Tanh_CrossEntropy\"}\n",
    "    \n",
    "    for l2_penalty in lambdas:\n",
    "        # Initialisation du modèle\n",
    "        model = LinearMultiClass(\n",
    "            inSize=input_dim,\n",
    "            outSize=output_dim,\n",
    "            layers=[100,100],  # Quatre couches cachées pour la complexité\n",
    "            finalActivation=nn.Softmax(dim=1),  # Softmax pour la classification multi-classe\n",
    "            activation=config[\"activation\"]\n",
    "        )\n",
    "\n",
    "        model = model.to(device)\n",
    "        \n",
    "        # Initialisation de l'optimiseur avec pénalisation L2 (weight_decay)\n",
    "        optimizer = torch.optim.Adam(model.parameters(), lr=1e-3, weight_decay=l2_penalty)\n",
    "        criterion = config[\"criterion\"]\n",
    "        \n",
    "        # TensorBoard Writer pour visualisation\n",
    "        writer = SummaryWriter(log_dir=f\"runs/{config['tag']}_weight_decay_{l2_penalty}\")\n",
    "\n",
    "        # Entraînement du modèle et journalisation\n",
    "        train_and_log(model, train_loader, test_loader, criterion, optimizer, epochs, writer, output_dim)\n",
    "        \n",
    "        writer.close()\n",
    "\n",
    "# Paramètres du dataset et de l'entraînement\n",
    "input_dim = train_loader.dataset[0][0].numel()\n",
    "output_dim = 10  # Nombre de classes\n",
    "device = torch.device(\"cuda\" if torch.cuda.is_available() else \"cpu\")\n",
    "\n",
    "# Comparaison des modèles avec différentes régularisations L2\n",
    "compare_models_with_regularization(train_loader, test_loader, input_dim, output_dim, epochs=2000)\n",
    "    \n",
    "    \n",
    "    \n",
    "    "
   ],
   "outputs": [],
   "execution_count": null
  },
  {
   "cell_type": "markdown",
   "metadata": {},
   "source": [
    "## Visualisation des résultats dans TensorBoard\n",
    "### Penalité 0\n",
    "![Accuracy](./img/penality0.png)\n",
    "\n",
    "### Penalité 1e-5\n",
    "![Accuracy](./img/penality1e-5.png)\n",
    "\n",
    "### Penalité 1e-4\n",
    "![Accuracy](./img/penality1e-4.png)\n",
    "\n",
    "### Penalité 1e-3\n",
    "![Accuracy](./img/penality1e-3.png)\n",
    "\n",
    "### Penalité 1e-2\n",
    "![Accuracy](./img/penality1e-2.png)"
   ]
  },
  {
   "cell_type": "markdown",
   "metadata": {},
   "source": [
    "### Dropout\n",
    "\n",
    "Une autre technique très utilisée est le <a href=https://pytorch.org/docs/stable/generated/torch.nn.Dropout.html> **Dropout** </a>. L’idée du Dropout est proche du moyennage de modèle : en entraînant k modèles de manière indépendante, on réduit la variance du modèle. Entraîner k modèles présente un surcoût non négligeable, et l’intérêt du Dropout est de réduire la complexité mémoire/temps de calcul. Le Dropout consiste à chaque itération à *geler* certains neurones aléatoirement dans le réseau en fixant leur sortie à zéro. Cela a pour conséquence de rendre plus robuste le réseau.\n",
    "\n",
    "Le comportement du réseau est donc différent en apprentissage et en inférence. Il est obligatoire d'utiliser ```model.train()``` et ```model.eval()``` pour différencier les comportements.\n",
    "Testez sur quelques réseaux pour voir l'effet du dropout."
   ]
  },
  {
   "cell_type": "code",
   "metadata": {},
   "source": [
    "# Comparaison des modèles avec différentes probabilités de Dropout\n",
    "def compare_models_with_dropout(train_loader, test_loader, input_dim, output_dim, epochs=30):\n",
    "    # Liste des probabilités de Dropout à tester\n",
    "    dropout_probs = [0, 0.1, 0.3, 0.5]\n",
    "    config = {\"activation\": nn.Tanh, \"criterion\": nn.CrossEntropyLoss(), \"tag\": \"Tanh_CrossEntropy\"}\n",
    "    \n",
    "    for dropout_prob in dropout_probs:\n",
    "        # Initialisation du modèle\n",
    "        model = LinearMultiClass(\n",
    "            inSize=input_dim,\n",
    "            outSize=output_dim,\n",
    "            layers=[100,100],  # Quatre couches cachées pour la complexité\n",
    "            finalActivation=nn.Softmax(dim=1),  # Softmax pour la classification multi-classe\n",
    "            activation=config[\"activation\"],\n",
    "            dropout_prob=dropout_prob\n",
    "        )\n",
    "\n",
    "        model = model.to(device)\n",
    "        \n",
    "        # Initialisation de l'optimiseur\n",
    "        optimizer = torch.optim.Adam(model.parameters(), lr=1e-3)\n",
    "        criterion = config[\"criterion\"]\n",
    "        \n",
    "        # TensorBoard Writer pour visualisation\n",
    "        writer = SummaryWriter(log_dir=f\"runs/{config['tag']}_dropout_{dropout_prob}\")\n",
    "        \n",
    "        \n",
    "        # Entraînement du modèle et journalisation\n",
    "        train_and_log(model, train_loader, test_loader, criterion, optimizer, epochs, writer, output_dim)\n",
    "        \n",
    "        writer.close()\n",
    "\n",
    "# Paramètres du dataset et de l'entraînement\n",
    "input_dim = train_loader.dataset[0][0].numel()\n",
    "output_dim = 10  # Nombre de classes\n",
    "device = torch.device(\"cuda\" if torch.cuda.is_available() else \"cpu\")\n",
    "\n",
    "# Comparaison des modèles avec différentes probabilités de Dropout\n",
    "compare_models_with_dropout(train_loader, test_loader, input_dim, output_dim, epochs=2000)\n"
   ],
   "outputs": [],
   "execution_count": null
  },
  {
   "cell_type": "markdown",
   "metadata": {},
   "source": [
    "## Visualisation des résultats dans TensorBoard\n",
    "### Dropout 0\n",
    "![Accuracy](./img/dropout0.png)\n",
    "\n",
    "### Dropout 0.1\n",
    "![Accuracy](./img/dropout0.1.png)\n",
    "\n",
    "### Dropout 0.3\n",
    "![Accuracy](./img/dropout0.3.png)\n",
    "\n",
    "### Dropout 0.5\n",
    "![Accuracy](./img/dropout0.5.png)"
   ]
  },
  {
   "cell_type": "markdown",
   "metadata": {},
   "source": [
    "### BatchNorm\n",
    "\n",
    "On sait que les données centrées réduites permettent un apprentissage plus rapide et stable d’un modèle ; bien qu’on puisse faire en sorte que les données en entrées soient centrées réduites, cela est plus délicat pour les couches internes d’un réseau de neurones. La technique de <a href=https://pytorch.org/docs/stable/generated/torch.nn.BatchNorm1d.html> **BatchNorm**</a> consiste à ajouter une couche qui a pour but de centrer/réduire les données en utilisant une moyenne/variance glissante (en inférence) et les statistiques du batch (en\n",
    "apprentissage).\n",
    "\n",
    "Tout comme pour le dropout, il est nécessaire d'utiliser ```model.train()``` et ```model.eval()```. \n",
    "Expérimentez la batchnorm. "
   ]
  },
  {
   "cell_type": "code",
   "metadata": {},
   "source": [
    "# Comparaison des modèles avec BatchNorm\n",
    "def compare_models_with_batchnorm(train_loader, test_loader, input_dim, output_dim, epochs=2000):\n",
    "    # Liste des probabilités de Dropout à tester\n",
    "    dropout_probs = [0, 0.1, 0.3, 0.5]\n",
    "    config = {\"activation\": nn.Tanh, \"criterion\": nn.CrossEntropyLoss(), \"tag\": \"Tanh_CrossEntropy_BatchNorm\"}\n",
    "    model = LinearMultiClass(\n",
    "        inSize=input_dim,\n",
    "        outSize=output_dim,\n",
    "        layers=[100,100],  \n",
    "        finalActivation=nn.Softmax(dim=1), \n",
    "        activation=config[\"activation\"],\n",
    "        BatchNorm=True\n",
    "    )\n",
    "    \n",
    "    model = model.to(device)\n",
    "    \n",
    "    # Initialisation de l'optimiseur\n",
    "    optimizer = torch.optim.Adam(model.parameters(), lr=1e-3)\n",
    "    \n",
    "    # TensorBoard Writer pour visualisation\n",
    "    writer = SummaryWriter(log_dir=f\"runs/{config['tag']}\")\n",
    "    \n",
    "    \n",
    "    # Entraînement du modèle et journalisation\n",
    "    train_and_log(model, train_loader, test_loader, config[\"criterion\"], optimizer, epochs, writer, output_dim)\n",
    "    \n",
    "    writer.close()\n",
    "        \n",
    "        \n",
    "input_dim = train_loader.dataset[0][0].numel()\n",
    "output_dim = 10  # Nombre de classes\n",
    "device = torch.device(\"cuda\" if torch.cuda.is_available() else \"cpu\")\n",
    "\n",
    "# Comparaison des modèles avec différentes probabilités de Dropout\n",
    "compare_models_with_batchnorm(train_loader, test_loader, input_dim, output_dim, epochs=2000)\n",
    "    \n",
    "    \n"
   ],
   "outputs": [],
   "execution_count": null
  },
  {
   "cell_type": "markdown",
   "metadata": {},
   "source": [
    "## Visualisation des résultats dans TensorBoard\n",
    "### BatchNorm\n",
    "![Accuracy](./img/batchnorm.png)"
   ]
  },
  {
   "metadata": {},
   "cell_type": "markdown",
   "source": "Le batch norm semble améliorer la convergence du modèle, il permet d'empecher le surapprentissage et de stabiliser l'apprentissage pour le modele en cross entropy. On peut voir que la loss est plus stable."
  },
  {
   "metadata": {},
   "cell_type": "markdown",
   "source": ""
  }
 ],
 "metadata": {
  "accelerator": "GPU",
  "colab": {
   "collapsed_sections": [],
   "name": "DeepLearning fc TP1 2020-2021-correction.ipynb",
   "provenance": []
  },
  "kernelspec": {
   "display_name": "Python 3 (ipykernel)",
   "language": "python",
   "name": "python3"
  },
  "language_info": {
   "codemirror_mode": {
    "name": "ipython",
    "version": 3
   },
   "file_extension": ".py",
   "mimetype": "text/x-python",
   "name": "python",
   "nbconvert_exporter": "python",
   "pygments_lexer": "ipython3",
   "version": "3.12.7"
  }
 },
 "nbformat": 4,
 "nbformat_minor": 4
}
